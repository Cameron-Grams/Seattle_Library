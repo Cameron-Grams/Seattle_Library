{
 "cells": [
  {
   "cell_type": "markdown",
   "metadata": {},
   "source": [
    "# Consolitated Door Counts: 2010 to 2019"
   ]
  },
  {
   "cell_type": "markdown",
   "metadata": {},
   "source": [
    "The purpose of this notebook is to produce a single csv file that has the door count information for the branches of the Seattle Public Library. The count information is totalled for each branch by month.  The final csv file has the following columns:\n",
    "\n",
    "- Branch name\n",
    "- Visitors during normal \"open hours\"\n",
    "- Visitors during designated \"closed hours\"\n",
    "- Total visitors in the month\n",
    "- The time period (month) covered"
   ]
  },
  {
   "cell_type": "markdown",
   "metadata": {},
   "source": [
    "The final compilation of the data is in a gist [here](https://gist.githubusercontent.com/Cameron-Grams/565526991400ade865e48d1aebb7cdd5/raw/61394eb466550c239a56e7f83eef1a66e4130329/door_counts_all)"
   ]
  },
  {
   "cell_type": "markdown",
   "metadata": {},
   "source": [
    "Use of the compilation url is demonstrated in the Library Use notebook.  "
   ]
  },
  {
   "cell_type": "code",
   "execution_count": 1,
   "metadata": {},
   "outputs": [],
   "source": [
    "import pandas as pd\n",
    "import numpy as np\n",
    "from tabula import read_pdf\n",
    "\n",
    "from datetime import datetime as dt"
   ]
  },
  {
   "cell_type": "code",
   "execution_count": null,
   "metadata": {},
   "outputs": [],
   "source": [
    "df10 = read_pdf('./years/y2010.pdf', pages = 'all')\n",
    "df11 = read_pdf('./years/y2011.pdf', pages = 'all')\n",
    "df12 = read_pdf('./years/y2012.pdf', pages = 'all')\n",
    "df13 = read_pdf('./years/y2013.pdf', pages = 'all')\n",
    "df14 = read_pdf('./years/y2014.pdf', pages = 'all')\n",
    "df15 = read_pdf('./years/y2015.pdf', pages = 'all')\n",
    "df16 = read_pdf('./years/y2016.pdf', pages = 'all')\n",
    "df17 = read_pdf('./years/y2017.pdf', pages = 'all')\n",
    "df18 = read_pdf('./years/y2018.pdf', pages = 'all')\n",
    "df19 = read_pdf('./years/y2019.pdf', pages = 'all')"
   ]
  },
  {
   "cell_type": "code",
   "execution_count": null,
   "metadata": {},
   "outputs": [],
   "source": [
    "months = [\n",
    "\"jan\",\n",
    "\"feb_1\",\n",
    "\"feb_2\",\n",
    "\"mar\",\n",
    "\"apr_1\",\n",
    "\"apr_2\",\n",
    "\"may_1\",\n",
    "\"may_2\",\n",
    "\"june\",\n",
    "\"july_1\",\n",
    "\"july_2\",\n",
    "\"aug\",\n",
    "\"sept_1\",\n",
    "\"sept_2\",\n",
    "\"oct_1\",\n",
    "\"oct_2\",\n",
    "\"nov\",\n",
    "\"dec_1\",\n",
    "\"dec_2\"\n",
    "        ]"
   ]
  },
  {
   "cell_type": "code",
   "execution_count": null,
   "metadata": {},
   "outputs": [],
   "source": [
    "months_obj = {\n",
    "\"jan\": (0, 1, 29, 1),\n",
    "\"feb_1\": (0, 29, 46, 2),\n",
    "\"feb_2\": (1, 1, 12, 2),\n",
    "\"mar\": (1, 12, 40, 3),\n",
    "\"apr_1\": (1, 40, 47, 4),\n",
    "\"apr_2\": (2, 1, 22, 4),\n",
    "\"may_1\": (2, 22, 47, 5),\n",
    "\"may_2\": (3, 1, 4, 5),\n",
    "\"june\": (3, 4, 32, 6),\n",
    "\"july_1\": (3, 32, 47, 7),\n",
    "\"july_2\": (4, 1, 14, 7),\n",
    "\"aug\": (4, 14, 42, 8),\n",
    "\"sept_1\": (4, 42, 47, 9),\n",
    "\"sept_2\": (5, 1, 24, 9),\n",
    "\"oct_1\": (5, 24, 47, 10),\n",
    "\"oct_2\": (6, 1, 6, 10),\n",
    "\"nov\": (6, 6, 34, 11),\n",
    "\"dec_1\": (6, 34, 47, 12),\n",
    "\"dec_2\": (7, 1, 16, 12)\n",
    "        }"
   ]
  },
  {
   "cell_type": "code",
   "execution_count": null,
   "metadata": {},
   "outputs": [],
   "source": [
    "def format_month(df, begin, end, month, year):\n",
    "    df['time_period'] = dt.strptime( f\"{month} {year}\", \"%m %Y\")\n",
    "    df = df.iloc[begin: end]\n",
    "\n",
    "    df = df.rename({\n",
    "        'Unnamed: 0': 'open_hours_count', \n",
    "        'Door Count (Visits)': 'closed_hours_count',\n",
    "        'Unnamed: 1': 'Total_visits'\n",
    "        }, axis = 1)\n",
    "\n",
    "    keep_columns = [\n",
    "        'Branch', \n",
    "        'open_hours_count', \n",
    "        'closed_hours_count', \n",
    "        'Total_visits', \n",
    "        'time_period'\n",
    "        ]\n",
    "\n",
    "    return df[keep_columns]"
   ]
  },
  {
   "cell_type": "code",
   "execution_count": null,
   "metadata": {},
   "outputs": [],
   "source": [
    "def audit(df):\n",
    "    problems = []\n",
    "    branches = list(df['Branch'].unique())\n",
    "    for branch in branches:\n",
    "        selection = df[df['Branch'] == branch]\n",
    "        problems.append((branch, len(selection)))\n",
    "    return problems"
   ]
  },
  {
   "cell_type": "code",
   "execution_count": null,
   "metadata": {},
   "outputs": [],
   "source": [
    "def format_year(df_list, year, months= months, months_obj = months_obj):\n",
    "    year_df = []\n",
    "    for month in months:\n",
    "        df, begin, end, m = months_obj[month]\n",
    "        new_month = format_month(df_list[df], begin, end, m, year)\n",
    "        year_df.append(new_month)\n",
    "    year = pd.concat(year_df)\n",
    "    return year\n"
   ]
  },
  {
   "cell_type": "code",
   "execution_count": null,
   "metadata": {},
   "outputs": [],
   "source": [
    "y2010 = format_year(df10, 2010)"
   ]
  },
  {
   "cell_type": "code",
   "execution_count": null,
   "metadata": {},
   "outputs": [],
   "source": [
    "y2011 = format_year(df11, 2011)"
   ]
  },
  {
   "cell_type": "code",
   "execution_count": null,
   "metadata": {},
   "outputs": [],
   "source": [
    "y2012 = format_year(df12, 2012)"
   ]
  },
  {
   "cell_type": "code",
   "execution_count": null,
   "metadata": {},
   "outputs": [],
   "source": [
    "y2013 = format_year(df13, 2013)"
   ]
  },
  {
   "cell_type": "code",
   "execution_count": null,
   "metadata": {},
   "outputs": [],
   "source": [
    "y2014 = format_year(df14, 2014)"
   ]
  },
  {
   "cell_type": "code",
   "execution_count": null,
   "metadata": {},
   "outputs": [],
   "source": [
    "y2015 = format_year(df15, 2015) # <-- RBE has only 9 months of data"
   ]
  },
  {
   "cell_type": "code",
   "execution_count": null,
   "metadata": {},
   "outputs": [],
   "source": [
    "y2016 = format_year(df16, 2016)"
   ]
  },
  {
   "cell_type": "code",
   "execution_count": null,
   "metadata": {},
   "outputs": [],
   "source": [
    "y2017 = format_year(df17, 2017)"
   ]
  },
  {
   "cell_type": "code",
   "execution_count": null,
   "metadata": {},
   "outputs": [],
   "source": [
    "y2018 = format_year(df18, 2018)"
   ]
  },
  {
   "cell_type": "code",
   "execution_count": null,
   "metadata": {
    "scrolled": false
   },
   "outputs": [],
   "source": [
    "y2019 = format_year(df19, 2019)"
   ]
  },
  {
   "cell_type": "code",
   "execution_count": null,
   "metadata": {},
   "outputs": [],
   "source": [
    "# audit(y2019)"
   ]
  },
  {
   "cell_type": "code",
   "execution_count": null,
   "metadata": {},
   "outputs": [],
   "source": [
    "all_years_dfs = [\n",
    "    y2010,\n",
    "    y2011,\n",
    "    y2012, \n",
    "    y2013,\n",
    "    y2014,\n",
    "    y2015,\n",
    "    y2016,\n",
    "    y2017,\n",
    "    y2018,\n",
    "    y2019\n",
    "]"
   ]
  },
  {
   "cell_type": "code",
   "execution_count": null,
   "metadata": {},
   "outputs": [],
   "source": [
    "all_years = pd.concat(all_years_dfs)"
   ]
  },
  {
   "cell_type": "code",
   "execution_count": null,
   "metadata": {},
   "outputs": [],
   "source": [
    "all_years.to_csv(path_or_buf='all_years.csv', index=False)"
   ]
  },
  {
   "cell_type": "code",
   "execution_count": null,
   "metadata": {},
   "outputs": [],
   "source": []
  },
  {
   "cell_type": "code",
   "execution_count": null,
   "metadata": {},
   "outputs": [],
   "source": []
  }
 ],
 "metadata": {
  "kernelspec": {
   "display_name": "Python 3",
   "language": "python",
   "name": "python3"
  },
  "language_info": {
   "codemirror_mode": {
    "name": "ipython",
    "version": 3
   },
   "file_extension": ".py",
   "mimetype": "text/x-python",
   "name": "python",
   "nbconvert_exporter": "python",
   "pygments_lexer": "ipython3",
   "version": "3.8.5"
  }
 },
 "nbformat": 4,
 "nbformat_minor": 4
}
