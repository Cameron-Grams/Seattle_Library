{
 "cells": [
  {
   "cell_type": "markdown",
   "metadata": {},
   "source": [
    "# For Display:\n",
    "### Run the notebook, then uncomment and run these cells"
   ]
  },
  {
   "cell_type": "code",
   "execution_count": 55,
   "metadata": {},
   "outputs": [
    {
     "data": {
      "text/html": [
       "\n",
       "<div id=\"altair-viz-0f672d54eaec4bb8ba7f47a02e86ed3c\"></div>\n",
       "<script type=\"text/javascript\">\n",
       "  (function(spec, embedOpt){\n",
       "    let outputDiv = document.currentScript.previousElementSibling;\n",
       "    if (outputDiv.id !== \"altair-viz-0f672d54eaec4bb8ba7f47a02e86ed3c\") {\n",
       "      outputDiv = document.getElementById(\"altair-viz-0f672d54eaec4bb8ba7f47a02e86ed3c\");\n",
       "    }\n",
       "    const paths = {\n",
       "      \"vega\": \"https://cdn.jsdelivr.net/npm//vega@5?noext\",\n",
       "      \"vega-lib\": \"https://cdn.jsdelivr.net/npm//vega-lib?noext\",\n",
       "      \"vega-lite\": \"https://cdn.jsdelivr.net/npm//vega-lite@4.8.1?noext\",\n",
       "      \"vega-embed\": \"https://cdn.jsdelivr.net/npm//vega-embed@6?noext\",\n",
       "    };\n",
       "\n",
       "    function loadScript(lib) {\n",
       "      return new Promise(function(resolve, reject) {\n",
       "        var s = document.createElement('script');\n",
       "        s.src = paths[lib];\n",
       "        s.async = true;\n",
       "        s.onload = () => resolve(paths[lib]);\n",
       "        s.onerror = () => reject(`Error loading script: ${paths[lib]}`);\n",
       "        document.getElementsByTagName(\"head\")[0].appendChild(s);\n",
       "      });\n",
       "    }\n",
       "\n",
       "    function showError(err) {\n",
       "      outputDiv.innerHTML = `<div class=\"error\" style=\"color:red;\">${err}</div>`;\n",
       "      throw err;\n",
       "    }\n",
       "\n",
       "    function displayChart(vegaEmbed) {\n",
       "      vegaEmbed(outputDiv, spec, embedOpt)\n",
       "        .catch(err => showError(`Javascript Error: ${err.message}<br>This usually means there's a typo in your chart specification. See the javascript console for the full traceback.`));\n",
       "    }\n",
       "\n",
       "    if(typeof define === \"function\" && define.amd) {\n",
       "      requirejs.config({paths});\n",
       "      require([\"vega-embed\"], displayChart, err => showError(`Error loading script: ${err.message}`));\n",
       "    } else if (typeof vegaEmbed === \"function\") {\n",
       "      displayChart(vegaEmbed);\n",
       "    } else {\n",
       "      loadScript(\"vega\")\n",
       "        .then(() => loadScript(\"vega-lite\"))\n",
       "        .then(() => loadScript(\"vega-embed\"))\n",
       "        .catch(showError)\n",
       "        .then(() => displayChart(vegaEmbed));\n",
       "    }\n",
       "  })({\"config\": {\"view\": {\"continuousWidth\": 400, \"continuousHeight\": 300}}, \"data\": {\"name\": \"data-29e74c6c36207c5bf95da76d86eabe52\"}, \"mark\": \"line\", \"encoding\": {\"color\": {\"type\": \"nominal\", \"field\": \"variable\"}, \"x\": {\"type\": \"nominal\", \"field\": \"year\"}, \"y\": {\"type\": \"quantitative\", \"field\": \"value\", \"title\": \"Counts\"}}, \"title\": \"Comparion of Library Visits to Checkout of Physical Items\", \"width\": 500, \"$schema\": \"https://vega.github.io/schema/vega-lite/v4.8.1.json\", \"datasets\": {\"data-29e74c6c36207c5bf95da76d86eabe52\": [{\"year\": 2010, \"variable\": \"Checkouts\", \"value\": 8425046.0}, {\"year\": 2011, \"variable\": \"Checkouts\", \"value\": 7784795.0}, {\"year\": 2012, \"variable\": \"Checkouts\", \"value\": 7299124.0}, {\"year\": 2013, \"variable\": \"Checkouts\", \"value\": 7864260.0}, {\"year\": 2014, \"variable\": \"Checkouts\", \"value\": 7416879.0}, {\"year\": 2015, \"variable\": \"Checkouts\", \"value\": 6871626.0}, {\"year\": 2016, \"variable\": \"Checkouts\", \"value\": 6404830.0}, {\"year\": 2017, \"variable\": \"Checkouts\", \"value\": 6213798.0}, {\"year\": 2018, \"variable\": \"Checkouts\", \"value\": 6020702.0}, {\"year\": 2019, \"variable\": \"Checkouts\", \"value\": 5703704.0}, {\"year\": 2010, \"variable\": \"Total_visits\", \"value\": 6932753.0}, {\"year\": 2011, \"variable\": \"Total_visits\", \"value\": 6748230.0}, {\"year\": 2012, \"variable\": \"Total_visits\", \"value\": 6466073.0}, {\"year\": 2013, \"variable\": \"Total_visits\", \"value\": 6742275.0}, {\"year\": 2014, \"variable\": \"Total_visits\", \"value\": 6557748.0}, {\"year\": 2015, \"variable\": \"Total_visits\", \"value\": 6082046.0}, {\"year\": 2016, \"variable\": \"Total_visits\", \"value\": 5682628.0}, {\"year\": 2017, \"variable\": \"Total_visits\", \"value\": 5389626.0}, {\"year\": 2018, \"variable\": \"Total_visits\", \"value\": 5413286.0}, {\"year\": 2019, \"variable\": \"Total_visits\", \"value\": 5139142.0}]}}, {\"mode\": \"vega-lite\"});\n",
       "</script>"
      ],
      "text/plain": [
       "alt.Chart(...)"
      ]
     },
     "execution_count": 55,
     "metadata": {},
     "output_type": "execute_result"
    }
   ],
   "source": [
    "# checkout_visit"
   ]
  },
  {
   "cell_type": "markdown",
   "metadata": {},
   "source": [
    "If run locally with the included small sample of the checkout information there will be a fraction (5/1000) of the total records of checkouts available for comparison.  Please compare this reduced visualization to the comparison made with the full dataset, included as \"comapre_visits_checkouts_years_full.html\""
   ]
  },
  {
   "cell_type": "code",
   "execution_count": 56,
   "metadata": {},
   "outputs": [
    {
     "data": {
      "text/html": [
       "\n",
       "<div id=\"altair-viz-3273efc1e9d34ef68b812e680a9dbdd0\"></div>\n",
       "<script type=\"text/javascript\">\n",
       "  (function(spec, embedOpt){\n",
       "    let outputDiv = document.currentScript.previousElementSibling;\n",
       "    if (outputDiv.id !== \"altair-viz-3273efc1e9d34ef68b812e680a9dbdd0\") {\n",
       "      outputDiv = document.getElementById(\"altair-viz-3273efc1e9d34ef68b812e680a9dbdd0\");\n",
       "    }\n",
       "    const paths = {\n",
       "      \"vega\": \"https://cdn.jsdelivr.net/npm//vega@5?noext\",\n",
       "      \"vega-lib\": \"https://cdn.jsdelivr.net/npm//vega-lib?noext\",\n",
       "      \"vega-lite\": \"https://cdn.jsdelivr.net/npm//vega-lite@4.8.1?noext\",\n",
       "      \"vega-embed\": \"https://cdn.jsdelivr.net/npm//vega-embed@6?noext\",\n",
       "    };\n",
       "\n",
       "    function loadScript(lib) {\n",
       "      return new Promise(function(resolve, reject) {\n",
       "        var s = document.createElement('script');\n",
       "        s.src = paths[lib];\n",
       "        s.async = true;\n",
       "        s.onload = () => resolve(paths[lib]);\n",
       "        s.onerror = () => reject(`Error loading script: ${paths[lib]}`);\n",
       "        document.getElementsByTagName(\"head\")[0].appendChild(s);\n",
       "      });\n",
       "    }\n",
       "\n",
       "    function showError(err) {\n",
       "      outputDiv.innerHTML = `<div class=\"error\" style=\"color:red;\">${err}</div>`;\n",
       "      throw err;\n",
       "    }\n",
       "\n",
       "    function displayChart(vegaEmbed) {\n",
       "      vegaEmbed(outputDiv, spec, embedOpt)\n",
       "        .catch(err => showError(`Javascript Error: ${err.message}<br>This usually means there's a typo in your chart specification. See the javascript console for the full traceback.`));\n",
       "    }\n",
       "\n",
       "    if(typeof define === \"function\" && define.amd) {\n",
       "      requirejs.config({paths});\n",
       "      require([\"vega-embed\"], displayChart, err => showError(`Error loading script: ${err.message}`));\n",
       "    } else if (typeof vegaEmbed === \"function\") {\n",
       "      displayChart(vegaEmbed);\n",
       "    } else {\n",
       "      loadScript(\"vega\")\n",
       "        .then(() => loadScript(\"vega-lite\"))\n",
       "        .then(() => loadScript(\"vega-embed\"))\n",
       "        .catch(showError)\n",
       "        .then(() => displayChart(vegaEmbed));\n",
       "    }\n",
       "  })({\"config\": {\"view\": {\"continuousWidth\": 400, \"continuousHeight\": 300}}, \"data\": {\"name\": \"data-0fed4bd54285e118e904544f222e2b62\"}, \"mark\": \"line\", \"encoding\": {\"color\": {\"type\": \"nominal\", \"field\": \"variable\"}, \"tooltip\": [{\"type\": \"nominal\", \"field\": \"variable\", \"title\": \"Branch: \"}], \"x\": {\"type\": \"nominal\", \"field\": \"year\"}, \"y\": {\"type\": \"quantitative\", \"field\": \"value\"}}, \"height\": 700, \"title\": \"Branch Door counts by year\", \"width\": 650, \"$schema\": \"https://vega.github.io/schema/vega-lite/v4.8.1.json\", \"datasets\": {\"data-0fed4bd54285e118e904544f222e2b62\": [{\"year\": 2010, \"variable\": \"Northgate Branch\", \"value\": 232039}, {\"year\": 2011, \"variable\": \"Northgate Branch\", \"value\": 212547}, {\"year\": 2012, \"variable\": \"Northgate Branch\", \"value\": 184225}, {\"year\": 2013, \"variable\": \"Northgate Branch\", \"value\": 253925}, {\"year\": 2014, \"variable\": \"Northgate Branch\", \"value\": 255163}, {\"year\": 2015, \"variable\": \"Northgate Branch\", \"value\": 258321}, {\"year\": 2016, \"variable\": \"Northgate Branch\", \"value\": 234778}, {\"year\": 2017, \"variable\": \"Northgate Branch\", \"value\": 222216}, {\"year\": 2018, \"variable\": \"Northgate Branch\", \"value\": 263792}, {\"year\": 2019, \"variable\": \"Northgate Branch\", \"value\": 206546}, {\"year\": 2010, \"variable\": \"High Point Branch\", \"value\": 102077}, {\"year\": 2011, \"variable\": \"High Point Branch\", \"value\": 103419}, {\"year\": 2012, \"variable\": \"High Point Branch\", \"value\": 103451}, {\"year\": 2013, \"variable\": \"High Point Branch\", \"value\": 101992}, {\"year\": 2014, \"variable\": \"High Point Branch\", \"value\": 92887}, {\"year\": 2015, \"variable\": \"High Point Branch\", \"value\": 96046}, {\"year\": 2016, \"variable\": \"High Point Branch\", \"value\": 85721}, {\"year\": 2017, \"variable\": \"High Point Branch\", \"value\": 90696}, {\"year\": 2018, \"variable\": \"High Point Branch\", \"value\": 96763}, {\"year\": 2019, \"variable\": \"High Point Branch\", \"value\": 93959}, {\"year\": 2010, \"variable\": \"Rainier Beach Branch\", \"value\": 218208}, {\"year\": 2011, \"variable\": \"Rainier Beach Branch\", \"value\": 218062}, {\"year\": 2012, \"variable\": \"Rainier Beach Branch\", \"value\": 211623}, {\"year\": 2013, \"variable\": \"Rainier Beach Branch\", \"value\": 204404}, {\"year\": 2014, \"variable\": \"Rainier Beach Branch\", \"value\": 206950}, {\"year\": 2015, \"variable\": \"Rainier Beach Branch\", \"value\": 127855}, {\"year\": 2016, \"variable\": \"Rainier Beach Branch\", \"value\": 145970}, {\"year\": 2017, \"variable\": \"Rainier Beach Branch\", \"value\": 160787}, {\"year\": 2018, \"variable\": \"Rainier Beach Branch\", \"value\": 156052}, {\"year\": 2019, \"variable\": \"Rainier Beach Branch\", \"value\": 140926}, {\"year\": 2010, \"variable\": \"Douglass-Truth Branch\", \"value\": 221588}, {\"year\": 2011, \"variable\": \"Douglass-Truth Branch\", \"value\": 250964}, {\"year\": 2012, \"variable\": \"Douglass-Truth Branch\", \"value\": 260450}, {\"year\": 2013, \"variable\": \"Douglass-Truth Branch\", \"value\": 253750}, {\"year\": 2014, \"variable\": \"Douglass-Truth Branch\", \"value\": 240790}, {\"year\": 2015, \"variable\": \"Douglass-Truth Branch\", \"value\": 206517}, {\"year\": 2016, \"variable\": \"Douglass-Truth Branch\", \"value\": 176829}, {\"year\": 2017, \"variable\": \"Douglass-Truth Branch\", \"value\": 179005}, {\"year\": 2018, \"variable\": \"Douglass-Truth Branch\", \"value\": 168450}, {\"year\": 2019, \"variable\": \"Douglass-Truth Branch\", \"value\": 151417}, {\"year\": 2010, \"variable\": \"Magnolia Branch\", \"value\": 112262}, {\"year\": 2011, \"variable\": \"Magnolia Branch\", \"value\": 108179}, {\"year\": 2012, \"variable\": \"Magnolia Branch\", \"value\": 102521}, {\"year\": 2013, \"variable\": \"Magnolia Branch\", \"value\": 114014}, {\"year\": 2014, \"variable\": \"Magnolia Branch\", \"value\": 113728}, {\"year\": 2015, \"variable\": \"Magnolia Branch\", \"value\": 156733}, {\"year\": 2016, \"variable\": \"Magnolia Branch\", \"value\": 113586}, {\"year\": 2017, \"variable\": \"Magnolia Branch\", \"value\": 111875}, {\"year\": 2018, \"variable\": \"Magnolia Branch\", \"value\": 110079}, {\"year\": 2019, \"variable\": \"Magnolia Branch\", \"value\": 107203}, {\"year\": 2010, \"variable\": \"NewHolly Branch\", \"value\": 92535}, {\"year\": 2011, \"variable\": \"NewHolly Branch\", \"value\": 96914}, {\"year\": 2012, \"variable\": \"NewHolly Branch\", \"value\": 80128}, {\"year\": 2013, \"variable\": \"NewHolly Branch\", \"value\": 71290}, {\"year\": 2014, \"variable\": \"NewHolly Branch\", \"value\": 67479}, {\"year\": 2015, \"variable\": \"NewHolly Branch\", \"value\": 69048}, {\"year\": 2016, \"variable\": \"NewHolly Branch\", \"value\": 61094}, {\"year\": 2017, \"variable\": \"NewHolly Branch\", \"value\": 58321}, {\"year\": 2018, \"variable\": \"NewHolly Branch\", \"value\": 58924}, {\"year\": 2019, \"variable\": \"NewHolly Branch\", \"value\": 53429}, {\"year\": 2010, \"variable\": \"Ballard Branch\", \"value\": 462421}, {\"year\": 2011, \"variable\": \"Ballard Branch\", \"value\": 436589}, {\"year\": 2012, \"variable\": \"Ballard Branch\", \"value\": 420828}, {\"year\": 2013, \"variable\": \"Ballard Branch\", \"value\": 424617}, {\"year\": 2014, \"variable\": \"Ballard Branch\", \"value\": 413503}, {\"year\": 2015, \"variable\": \"Ballard Branch\", \"value\": 404936}, {\"year\": 2016, \"variable\": \"Ballard Branch\", \"value\": 338095}, {\"year\": 2017, \"variable\": \"Ballard Branch\", \"value\": 384171}, {\"year\": 2018, \"variable\": \"Ballard Branch\", \"value\": 363410}, {\"year\": 2019, \"variable\": \"Ballard Branch\", \"value\": 346726}, {\"year\": 2010, \"variable\": \"Greenwood Branch\", \"value\": 299670}, {\"year\": 2011, \"variable\": \"Greenwood Branch\", \"value\": 300708}, {\"year\": 2012, \"variable\": \"Greenwood Branch\", \"value\": 296987}, {\"year\": 2013, \"variable\": \"Greenwood Branch\", \"value\": 315275}, {\"year\": 2014, \"variable\": \"Greenwood Branch\", \"value\": 303407}, {\"year\": 2015, \"variable\": \"Greenwood Branch\", \"value\": 305882}, {\"year\": 2016, \"variable\": \"Greenwood Branch\", \"value\": 301125}, {\"year\": 2017, \"variable\": \"Greenwood Branch\", \"value\": 198873}, {\"year\": 2018, \"variable\": \"Greenwood Branch\", \"value\": 295700}, {\"year\": 2019, \"variable\": \"Greenwood Branch\", \"value\": 275649}, {\"year\": 2010, \"variable\": \"Northeast Branch\", \"value\": 345352}, {\"year\": 2011, \"variable\": \"Northeast Branch\", \"value\": 353288}, {\"year\": 2012, \"variable\": \"Northeast Branch\", \"value\": 355319}, {\"year\": 2013, \"variable\": \"Northeast Branch\", \"value\": 362367}, {\"year\": 2014, \"variable\": \"Northeast Branch\", \"value\": 346812}, {\"year\": 2015, \"variable\": \"Northeast Branch\", \"value\": 345190}, {\"year\": 2016, \"variable\": \"Northeast Branch\", \"value\": 324149}, {\"year\": 2017, \"variable\": \"Northeast Branch\", \"value\": 300124}, {\"year\": 2018, \"variable\": \"Northeast Branch\", \"value\": 313561}, {\"year\": 2019, \"variable\": \"Northeast Branch\", \"value\": 293009}, {\"year\": 2010, \"variable\": \"International District/Chinatown Branch\", \"value\": 85527}, {\"year\": 2011, \"variable\": \"International District/Chinatown Branch\", \"value\": 74127}, {\"year\": 2012, \"variable\": \"International District/Chinatown Branch\", \"value\": 65410}, {\"year\": 2013, \"variable\": \"International District/Chinatown Branch\", \"value\": 69524}, {\"year\": 2014, \"variable\": \"International District/Chinatown Branch\", \"value\": 62824}, {\"year\": 2015, \"variable\": \"International District/Chinatown Branch\", \"value\": 64779}, {\"year\": 2016, \"variable\": \"International District/Chinatown Branch\", \"value\": 61124}, {\"year\": 2017, \"variable\": \"International District/Chinatown Branch\", \"value\": 64997}, {\"year\": 2018, \"variable\": \"International District/Chinatown Branch\", \"value\": 67416}, {\"year\": 2019, \"variable\": \"International District/Chinatown Branch\", \"value\": 60943}, {\"year\": 2010, \"variable\": \"Capitol Hill Branch\", \"value\": 306521}, {\"year\": 2011, \"variable\": \"Capitol Hill Branch\", \"value\": 292779}, {\"year\": 2012, \"variable\": \"Capitol Hill Branch\", \"value\": 267810}, {\"year\": 2013, \"variable\": \"Capitol Hill Branch\", \"value\": 271931}, {\"year\": 2014, \"variable\": \"Capitol Hill Branch\", \"value\": 276470}, {\"year\": 2015, \"variable\": \"Capitol Hill Branch\", \"value\": 246881}, {\"year\": 2016, \"variable\": \"Capitol Hill Branch\", \"value\": 289222}, {\"year\": 2017, \"variable\": \"Capitol Hill Branch\", \"value\": 278662}, {\"year\": 2018, \"variable\": \"Capitol Hill Branch\", \"value\": 274472}, {\"year\": 2019, \"variable\": \"Capitol Hill Branch\", \"value\": 260500}, {\"year\": 2010, \"variable\": \"Wallingford Branch\", \"value\": 130846}, {\"year\": 2011, \"variable\": \"Wallingford Branch\", \"value\": 125697}, {\"year\": 2012, \"variable\": \"Wallingford Branch\", \"value\": 119731}, {\"year\": 2013, \"variable\": \"Wallingford Branch\", \"value\": 137122}, {\"year\": 2014, \"variable\": \"Wallingford Branch\", \"value\": 136438}, {\"year\": 2015, \"variable\": \"Wallingford Branch\", \"value\": 113748}, {\"year\": 2016, \"variable\": \"Wallingford Branch\", \"value\": 114097}, {\"year\": 2017, \"variable\": \"Wallingford Branch\", \"value\": 100056}, {\"year\": 2018, \"variable\": \"Wallingford Branch\", \"value\": 103404}, {\"year\": 2019, \"variable\": \"Wallingford Branch\", \"value\": 103417}, {\"year\": 2010, \"variable\": \"Lake City Branch\", \"value\": 293029}, {\"year\": 2011, \"variable\": \"Lake City Branch\", \"value\": 286542}, {\"year\": 2012, \"variable\": \"Lake City Branch\", \"value\": 293974}, {\"year\": 2013, \"variable\": \"Lake City Branch\", \"value\": 277030}, {\"year\": 2014, \"variable\": \"Lake City Branch\", \"value\": 265926}, {\"year\": 2015, \"variable\": \"Lake City Branch\", \"value\": 268951}, {\"year\": 2016, \"variable\": \"Lake City Branch\", \"value\": 240921}, {\"year\": 2017, \"variable\": \"Lake City Branch\", \"value\": 221496}, {\"year\": 2018, \"variable\": \"Lake City Branch\", \"value\": 72657}, {\"year\": 2019, \"variable\": \"Lake City Branch\", \"value\": 194365}, {\"year\": 2010, \"variable\": \"Broadview Branch\", \"value\": 298902}, {\"year\": 2011, \"variable\": \"Broadview Branch\", \"value\": 303244}, {\"year\": 2012, \"variable\": \"Broadview Branch\", \"value\": 286152}, {\"year\": 2013, \"variable\": \"Broadview Branch\", \"value\": 286871}, {\"year\": 2014, \"variable\": \"Broadview Branch\", \"value\": 282801}, {\"year\": 2015, \"variable\": \"Broadview Branch\", \"value\": 280325}, {\"year\": 2016, \"variable\": \"Broadview Branch\", \"value\": 223107}, {\"year\": 2017, \"variable\": \"Broadview Branch\", \"value\": 225553}, {\"year\": 2018, \"variable\": \"Broadview Branch\", \"value\": 219709}, {\"year\": 2019, \"variable\": \"Broadview Branch\", \"value\": 203099}, {\"year\": 2010, \"variable\": \"Montlake Branch\", \"value\": 97846}, {\"year\": 2011, \"variable\": \"Montlake Branch\", \"value\": 88275}, {\"year\": 2012, \"variable\": \"Montlake Branch\", \"value\": 85149}, {\"year\": 2013, \"variable\": \"Montlake Branch\", \"value\": 95791}, {\"year\": 2014, \"variable\": \"Montlake Branch\", \"value\": 91446}, {\"year\": 2015, \"variable\": \"Montlake Branch\", \"value\": 87597}, {\"year\": 2016, \"variable\": \"Montlake Branch\", \"value\": 74101}, {\"year\": 2017, \"variable\": \"Montlake Branch\", \"value\": 66529}, {\"year\": 2018, \"variable\": \"Montlake Branch\", \"value\": 70265}, {\"year\": 2019, \"variable\": \"Montlake Branch\", \"value\": 59196}, {\"year\": 2010, \"variable\": \"South Park Branch\", \"value\": 71057}, {\"year\": 2011, \"variable\": \"South Park Branch\", \"value\": 65327}, {\"year\": 2012, \"variable\": \"South Park Branch\", \"value\": 63043}, {\"year\": 2013, \"variable\": \"South Park Branch\", \"value\": 67819}, {\"year\": 2014, \"variable\": \"South Park Branch\", \"value\": 60167}, {\"year\": 2015, \"variable\": \"South Park Branch\", \"value\": 57342}, {\"year\": 2016, \"variable\": \"South Park Branch\", \"value\": 55888}, {\"year\": 2017, \"variable\": \"South Park Branch\", \"value\": 59660}, {\"year\": 2018, \"variable\": \"South Park Branch\", \"value\": 60949}, {\"year\": 2019, \"variable\": \"South Park Branch\", \"value\": 48592}, {\"year\": 2010, \"variable\": \"Delridge Branch\", \"value\": 80169}, {\"year\": 2011, \"variable\": \"Delridge Branch\", \"value\": 65428}, {\"year\": 2012, \"variable\": \"Delridge Branch\", \"value\": 67277}, {\"year\": 2013, \"variable\": \"Delridge Branch\", \"value\": 75241}, {\"year\": 2014, \"variable\": \"Delridge Branch\", \"value\": 58780}, {\"year\": 2015, \"variable\": \"Delridge Branch\", \"value\": 47627}, {\"year\": 2016, \"variable\": \"Delridge Branch\", \"value\": 43798}, {\"year\": 2017, \"variable\": \"Delridge Branch\", \"value\": 38518}, {\"year\": 2018, \"variable\": \"Delridge Branch\", \"value\": 36855}, {\"year\": 2019, \"variable\": \"Delridge Branch\", \"value\": 34997}, {\"year\": 2010, \"variable\": \"Columbia Branch\", \"value\": 137265}, {\"year\": 2011, \"variable\": \"Columbia Branch\", \"value\": 128526}, {\"year\": 2012, \"variable\": \"Columbia Branch\", \"value\": 117374}, {\"year\": 2013, \"variable\": \"Columbia Branch\", \"value\": 185284}, {\"year\": 2014, \"variable\": \"Columbia Branch\", \"value\": 178737}, {\"year\": 2015, \"variable\": \"Columbia Branch\", \"value\": 195250}, {\"year\": 2016, \"variable\": \"Columbia Branch\", \"value\": 186052}, {\"year\": 2017, \"variable\": \"Columbia Branch\", \"value\": 176842}, {\"year\": 2018, \"variable\": \"Columbia Branch\", \"value\": 175301}, {\"year\": 2019, \"variable\": \"Columbia Branch\", \"value\": 161349}, {\"year\": 2010, \"variable\": \"University Branch\", \"value\": 182207}, {\"year\": 2011, \"variable\": \"University Branch\", \"value\": 167201}, {\"year\": 2012, \"variable\": \"University Branch\", \"value\": 163186}, {\"year\": 2013, \"variable\": \"University Branch\", \"value\": 189823}, {\"year\": 2014, \"variable\": \"University Branch\", \"value\": 186370}, {\"year\": 2015, \"variable\": \"University Branch\", \"value\": 167597}, {\"year\": 2016, \"variable\": \"University Branch\", \"value\": 115732}, {\"year\": 2017, \"variable\": \"University Branch\", \"value\": 119820}, {\"year\": 2018, \"variable\": \"University Branch\", \"value\": 135762}, {\"year\": 2019, \"variable\": \"University Branch\", \"value\": 127376}, {\"year\": 2010, \"variable\": \"Queen Anne Branch\", \"value\": 144095}, {\"year\": 2011, \"variable\": \"Queen Anne Branch\", \"value\": 136181}, {\"year\": 2012, \"variable\": \"Queen Anne Branch\", \"value\": 130775}, {\"year\": 2013, \"variable\": \"Queen Anne Branch\", \"value\": 146895}, {\"year\": 2014, \"variable\": \"Queen Anne Branch\", \"value\": 144448}, {\"year\": 2015, \"variable\": \"Queen Anne Branch\", \"value\": 137611}, {\"year\": 2016, \"variable\": \"Queen Anne Branch\", \"value\": 142148}, {\"year\": 2017, \"variable\": \"Queen Anne Branch\", \"value\": 135602}, {\"year\": 2018, \"variable\": \"Queen Anne Branch\", \"value\": 137621}, {\"year\": 2019, \"variable\": \"Queen Anne Branch\", \"value\": 128886}, {\"year\": 2010, \"variable\": \"West Seattle Branch\", \"value\": 178327}, {\"year\": 2011, \"variable\": \"West Seattle Branch\", \"value\": 192291}, {\"year\": 2012, \"variable\": \"West Seattle Branch\", \"value\": 194836}, {\"year\": 2013, \"variable\": \"West Seattle Branch\", \"value\": 196806}, {\"year\": 2014, \"variable\": \"West Seattle Branch\", \"value\": 185427}, {\"year\": 2015, \"variable\": \"West Seattle Branch\", \"value\": 179839}, {\"year\": 2016, \"variable\": \"West Seattle Branch\", \"value\": 170350}, {\"year\": 2017, \"variable\": \"West Seattle Branch\", \"value\": 166504}, {\"year\": 2018, \"variable\": \"West Seattle Branch\", \"value\": 167019}, {\"year\": 2019, \"variable\": \"West Seattle Branch\", \"value\": 167397}, {\"year\": 2010, \"variable\": \"Madrona-Sally Goldmark Branch\", \"value\": 71187}, {\"year\": 2011, \"variable\": \"Madrona-Sally Goldmark Branch\", \"value\": 61881}, {\"year\": 2012, \"variable\": \"Madrona-Sally Goldmark Branch\", \"value\": 60821}, {\"year\": 2013, \"variable\": \"Madrona-Sally Goldmark Branch\", \"value\": 70279}, {\"year\": 2014, \"variable\": \"Madrona-Sally Goldmark Branch\", \"value\": 65966}, {\"year\": 2015, \"variable\": \"Madrona-Sally Goldmark Branch\", \"value\": 69573}, {\"year\": 2016, \"variable\": \"Madrona-Sally Goldmark Branch\", \"value\": 65142}, {\"year\": 2017, \"variable\": \"Madrona-Sally Goldmark Branch\", \"value\": 60240}, {\"year\": 2018, \"variable\": \"Madrona-Sally Goldmark Branch\", \"value\": 56110}, {\"year\": 2019, \"variable\": \"Madrona-Sally Goldmark Branch\", \"value\": 58110}, {\"year\": 2010, \"variable\": \"Green Lake Branch\", \"value\": 208355}, {\"year\": 2011, \"variable\": \"Green Lake Branch\", \"value\": 201630}, {\"year\": 2012, \"variable\": \"Green Lake Branch\", \"value\": 185062}, {\"year\": 2013, \"variable\": \"Green Lake Branch\", \"value\": 203291}, {\"year\": 2014, \"variable\": \"Green Lake Branch\", \"value\": 200932}, {\"year\": 2015, \"variable\": \"Green Lake Branch\", \"value\": 123816}, {\"year\": 2016, \"variable\": \"Green Lake Branch\", \"value\": 123251}, {\"year\": 2017, \"variable\": \"Green Lake Branch\", \"value\": 76522}, {\"year\": 2018, \"variable\": \"Green Lake Branch\", \"value\": 118741}, {\"year\": 2019, \"variable\": \"Green Lake Branch\", \"value\": 89041}, {\"year\": 2010, \"variable\": \"Beacon Hill Branch\", \"value\": 289636}, {\"year\": 2011, \"variable\": \"Beacon Hill Branch\", \"value\": 286050}, {\"year\": 2012, \"variable\": \"Beacon Hill Branch\", \"value\": 250736}, {\"year\": 2013, \"variable\": \"Beacon Hill Branch\", \"value\": 252872}, {\"year\": 2014, \"variable\": \"Beacon Hill Branch\", \"value\": 248777}, {\"year\": 2015, \"variable\": \"Beacon Hill Branch\", \"value\": 245745}, {\"year\": 2016, \"variable\": \"Beacon Hill Branch\", \"value\": 235848}, {\"year\": 2017, \"variable\": \"Beacon Hill Branch\", \"value\": 192620}, {\"year\": 2018, \"variable\": \"Beacon Hill Branch\", \"value\": 221965}, {\"year\": 2019, \"variable\": \"Beacon Hill Branch\", \"value\": 210121}, {\"year\": 2010, \"variable\": \"Central Library\", \"value\": 1974333}, {\"year\": 2011, \"variable\": \"Central Library\", \"value\": 1903953}, {\"year\": 2012, \"variable\": \"Central Library\", \"value\": 1814183}, {\"year\": 2013, \"variable\": \"Central Library\", \"value\": 1838018}, {\"year\": 2014, \"variable\": \"Central Library\", \"value\": 1801861}, {\"year\": 2015, \"variable\": \"Central Library\", \"value\": 1549259}, {\"year\": 2016, \"variable\": \"Central Library\", \"value\": 1479764}, {\"year\": 2017, \"variable\": \"Central Library\", \"value\": 1405607}, {\"year\": 2018, \"variable\": \"Central Library\", \"value\": 1421395}, {\"year\": 2019, \"variable\": \"Central Library\", \"value\": 1320463}, {\"year\": 2010, \"variable\": \"Fremont Branch\", \"value\": 85480}, {\"year\": 2011, \"variable\": \"Fremont Branch\", \"value\": 78856}, {\"year\": 2012, \"variable\": \"Fremont Branch\", \"value\": 74063}, {\"year\": 2013, \"variable\": \"Fremont Branch\", \"value\": 84345}, {\"year\": 2014, \"variable\": \"Fremont Branch\", \"value\": 80977}, {\"year\": 2015, \"variable\": \"Fremont Branch\", \"value\": 80243}, {\"year\": 2016, \"variable\": \"Fremont Branch\", \"value\": 93602}, {\"year\": 2017, \"variable\": \"Fremont Branch\", \"value\": 119350}, {\"year\": 2018, \"variable\": \"Fremont Branch\", \"value\": 77263}, {\"year\": 2019, \"variable\": \"Fremont Branch\", \"value\": 75503}, {\"year\": 2010, \"variable\": \"Southwest Branch\", \"value\": 211819}, {\"year\": 2011, \"variable\": \"Southwest Branch\", \"value\": 209572}, {\"year\": 2012, \"variable\": \"Southwest Branch\", \"value\": 210959}, {\"year\": 2013, \"variable\": \"Southwest Branch\", \"value\": 191699}, {\"year\": 2014, \"variable\": \"Southwest Branch\", \"value\": 188682}, {\"year\": 2015, \"variable\": \"Southwest Branch\", \"value\": 195335}, {\"year\": 2016, \"variable\": \"Southwest Branch\", \"value\": 187134}, {\"year\": 2017, \"variable\": \"Southwest Branch\", \"value\": 174980}, {\"year\": 2018, \"variable\": \"Southwest Branch\", \"value\": 169651}, {\"year\": 2019, \"variable\": \"Southwest Branch\", \"value\": 166923}]}}, {\"mode\": \"vega-lite\"});\n",
       "</script>"
      ],
      "text/plain": [
       "alt.Chart(...)"
      ]
     },
     "execution_count": 56,
     "metadata": {},
     "output_type": "execute_result"
    }
   ],
   "source": [
    "# branch_traffic"
   ]
  },
  {
   "cell_type": "code",
   "execution_count": 57,
   "metadata": {},
   "outputs": [
    {
     "data": {
      "text/html": [
       "\n",
       "<div id=\"altair-viz-a7d6fbb9c2cb4cc09e30b2ed415ed70e\"></div>\n",
       "<script type=\"text/javascript\">\n",
       "  (function(spec, embedOpt){\n",
       "    let outputDiv = document.currentScript.previousElementSibling;\n",
       "    if (outputDiv.id !== \"altair-viz-a7d6fbb9c2cb4cc09e30b2ed415ed70e\") {\n",
       "      outputDiv = document.getElementById(\"altair-viz-a7d6fbb9c2cb4cc09e30b2ed415ed70e\");\n",
       "    }\n",
       "    const paths = {\n",
       "      \"vega\": \"https://cdn.jsdelivr.net/npm//vega@5?noext\",\n",
       "      \"vega-lib\": \"https://cdn.jsdelivr.net/npm//vega-lib?noext\",\n",
       "      \"vega-lite\": \"https://cdn.jsdelivr.net/npm//vega-lite@4.8.1?noext\",\n",
       "      \"vega-embed\": \"https://cdn.jsdelivr.net/npm//vega-embed@6?noext\",\n",
       "    };\n",
       "\n",
       "    function loadScript(lib) {\n",
       "      return new Promise(function(resolve, reject) {\n",
       "        var s = document.createElement('script');\n",
       "        s.src = paths[lib];\n",
       "        s.async = true;\n",
       "        s.onload = () => resolve(paths[lib]);\n",
       "        s.onerror = () => reject(`Error loading script: ${paths[lib]}`);\n",
       "        document.getElementsByTagName(\"head\")[0].appendChild(s);\n",
       "      });\n",
       "    }\n",
       "\n",
       "    function showError(err) {\n",
       "      outputDiv.innerHTML = `<div class=\"error\" style=\"color:red;\">${err}</div>`;\n",
       "      throw err;\n",
       "    }\n",
       "\n",
       "    function displayChart(vegaEmbed) {\n",
       "      vegaEmbed(outputDiv, spec, embedOpt)\n",
       "        .catch(err => showError(`Javascript Error: ${err.message}<br>This usually means there's a typo in your chart specification. See the javascript console for the full traceback.`));\n",
       "    }\n",
       "\n",
       "    if(typeof define === \"function\" && define.amd) {\n",
       "      requirejs.config({paths});\n",
       "      require([\"vega-embed\"], displayChart, err => showError(`Error loading script: ${err.message}`));\n",
       "    } else if (typeof vegaEmbed === \"function\") {\n",
       "      displayChart(vegaEmbed);\n",
       "    } else {\n",
       "      loadScript(\"vega\")\n",
       "        .then(() => loadScript(\"vega-lite\"))\n",
       "        .then(() => loadScript(\"vega-embed\"))\n",
       "        .catch(showError)\n",
       "        .then(() => displayChart(vegaEmbed));\n",
       "    }\n",
       "  })({\"config\": {\"view\": {\"continuousWidth\": 400, \"continuousHeight\": 300}}, \"data\": {\"name\": \"data-ae63e2c5feeb37f957b24d8e21013b2a\"}, \"mark\": \"line\", \"encoding\": {\"color\": {\"type\": \"nominal\", \"field\": \"variable\"}, \"tooltip\": [{\"type\": \"nominal\", \"field\": \"variable\", \"title\": \"Branch: \"}], \"x\": {\"type\": \"nominal\", \"field\": \"year\"}, \"y\": {\"type\": \"quantitative\", \"field\": \"value\"}}, \"height\": 700, \"title\": \"Branch Door counts by year\", \"width\": 650, \"$schema\": \"https://vega.github.io/schema/vega-lite/v4.8.1.json\", \"datasets\": {\"data-ae63e2c5feeb37f957b24d8e21013b2a\": [{\"year\": 2010, \"variable\": \"Northgate Branch\", \"value\": 232039}, {\"year\": 2011, \"variable\": \"Northgate Branch\", \"value\": 212547}, {\"year\": 2012, \"variable\": \"Northgate Branch\", \"value\": 184225}, {\"year\": 2013, \"variable\": \"Northgate Branch\", \"value\": 253925}, {\"year\": 2014, \"variable\": \"Northgate Branch\", \"value\": 255163}, {\"year\": 2015, \"variable\": \"Northgate Branch\", \"value\": 258321}, {\"year\": 2016, \"variable\": \"Northgate Branch\", \"value\": 234778}, {\"year\": 2017, \"variable\": \"Northgate Branch\", \"value\": 222216}, {\"year\": 2018, \"variable\": \"Northgate Branch\", \"value\": 263792}, {\"year\": 2019, \"variable\": \"Northgate Branch\", \"value\": 206546}, {\"year\": 2010, \"variable\": \"High Point Branch\", \"value\": 102077}, {\"year\": 2011, \"variable\": \"High Point Branch\", \"value\": 103419}, {\"year\": 2012, \"variable\": \"High Point Branch\", \"value\": 103451}, {\"year\": 2013, \"variable\": \"High Point Branch\", \"value\": 101992}, {\"year\": 2014, \"variable\": \"High Point Branch\", \"value\": 92887}, {\"year\": 2015, \"variable\": \"High Point Branch\", \"value\": 96046}, {\"year\": 2016, \"variable\": \"High Point Branch\", \"value\": 85721}, {\"year\": 2017, \"variable\": \"High Point Branch\", \"value\": 90696}, {\"year\": 2018, \"variable\": \"High Point Branch\", \"value\": 96763}, {\"year\": 2019, \"variable\": \"High Point Branch\", \"value\": 93959}, {\"year\": 2010, \"variable\": \"Rainier Beach Branch\", \"value\": 218208}, {\"year\": 2011, \"variable\": \"Rainier Beach Branch\", \"value\": 218062}, {\"year\": 2012, \"variable\": \"Rainier Beach Branch\", \"value\": 211623}, {\"year\": 2013, \"variable\": \"Rainier Beach Branch\", \"value\": 204404}, {\"year\": 2014, \"variable\": \"Rainier Beach Branch\", \"value\": 206950}, {\"year\": 2015, \"variable\": \"Rainier Beach Branch\", \"value\": 127855}, {\"year\": 2016, \"variable\": \"Rainier Beach Branch\", \"value\": 145970}, {\"year\": 2017, \"variable\": \"Rainier Beach Branch\", \"value\": 160787}, {\"year\": 2018, \"variable\": \"Rainier Beach Branch\", \"value\": 156052}, {\"year\": 2019, \"variable\": \"Rainier Beach Branch\", \"value\": 140926}, {\"year\": 2010, \"variable\": \"Douglass-Truth Branch\", \"value\": 221588}, {\"year\": 2011, \"variable\": \"Douglass-Truth Branch\", \"value\": 250964}, {\"year\": 2012, \"variable\": \"Douglass-Truth Branch\", \"value\": 260450}, {\"year\": 2013, \"variable\": \"Douglass-Truth Branch\", \"value\": 253750}, {\"year\": 2014, \"variable\": \"Douglass-Truth Branch\", \"value\": 240790}, {\"year\": 2015, \"variable\": \"Douglass-Truth Branch\", \"value\": 206517}, {\"year\": 2016, \"variable\": \"Douglass-Truth Branch\", \"value\": 176829}, {\"year\": 2017, \"variable\": \"Douglass-Truth Branch\", \"value\": 179005}, {\"year\": 2018, \"variable\": \"Douglass-Truth Branch\", \"value\": 168450}, {\"year\": 2019, \"variable\": \"Douglass-Truth Branch\", \"value\": 151417}, {\"year\": 2010, \"variable\": \"Magnolia Branch\", \"value\": 112262}, {\"year\": 2011, \"variable\": \"Magnolia Branch\", \"value\": 108179}, {\"year\": 2012, \"variable\": \"Magnolia Branch\", \"value\": 102521}, {\"year\": 2013, \"variable\": \"Magnolia Branch\", \"value\": 114014}, {\"year\": 2014, \"variable\": \"Magnolia Branch\", \"value\": 113728}, {\"year\": 2015, \"variable\": \"Magnolia Branch\", \"value\": 156733}, {\"year\": 2016, \"variable\": \"Magnolia Branch\", \"value\": 113586}, {\"year\": 2017, \"variable\": \"Magnolia Branch\", \"value\": 111875}, {\"year\": 2018, \"variable\": \"Magnolia Branch\", \"value\": 110079}, {\"year\": 2019, \"variable\": \"Magnolia Branch\", \"value\": 107203}, {\"year\": 2010, \"variable\": \"NewHolly Branch\", \"value\": 92535}, {\"year\": 2011, \"variable\": \"NewHolly Branch\", \"value\": 96914}, {\"year\": 2012, \"variable\": \"NewHolly Branch\", \"value\": 80128}, {\"year\": 2013, \"variable\": \"NewHolly Branch\", \"value\": 71290}, {\"year\": 2014, \"variable\": \"NewHolly Branch\", \"value\": 67479}, {\"year\": 2015, \"variable\": \"NewHolly Branch\", \"value\": 69048}, {\"year\": 2016, \"variable\": \"NewHolly Branch\", \"value\": 61094}, {\"year\": 2017, \"variable\": \"NewHolly Branch\", \"value\": 58321}, {\"year\": 2018, \"variable\": \"NewHolly Branch\", \"value\": 58924}, {\"year\": 2019, \"variable\": \"NewHolly Branch\", \"value\": 53429}, {\"year\": 2010, \"variable\": \"Ballard Branch\", \"value\": 462421}, {\"year\": 2011, \"variable\": \"Ballard Branch\", \"value\": 436589}, {\"year\": 2012, \"variable\": \"Ballard Branch\", \"value\": 420828}, {\"year\": 2013, \"variable\": \"Ballard Branch\", \"value\": 424617}, {\"year\": 2014, \"variable\": \"Ballard Branch\", \"value\": 413503}, {\"year\": 2015, \"variable\": \"Ballard Branch\", \"value\": 404936}, {\"year\": 2016, \"variable\": \"Ballard Branch\", \"value\": 338095}, {\"year\": 2017, \"variable\": \"Ballard Branch\", \"value\": 384171}, {\"year\": 2018, \"variable\": \"Ballard Branch\", \"value\": 363410}, {\"year\": 2019, \"variable\": \"Ballard Branch\", \"value\": 346726}, {\"year\": 2010, \"variable\": \"Greenwood Branch\", \"value\": 299670}, {\"year\": 2011, \"variable\": \"Greenwood Branch\", \"value\": 300708}, {\"year\": 2012, \"variable\": \"Greenwood Branch\", \"value\": 296987}, {\"year\": 2013, \"variable\": \"Greenwood Branch\", \"value\": 315275}, {\"year\": 2014, \"variable\": \"Greenwood Branch\", \"value\": 303407}, {\"year\": 2015, \"variable\": \"Greenwood Branch\", \"value\": 305882}, {\"year\": 2016, \"variable\": \"Greenwood Branch\", \"value\": 301125}, {\"year\": 2017, \"variable\": \"Greenwood Branch\", \"value\": 198873}, {\"year\": 2018, \"variable\": \"Greenwood Branch\", \"value\": 295700}, {\"year\": 2019, \"variable\": \"Greenwood Branch\", \"value\": 275649}, {\"year\": 2010, \"variable\": \"Northeast Branch\", \"value\": 345352}, {\"year\": 2011, \"variable\": \"Northeast Branch\", \"value\": 353288}, {\"year\": 2012, \"variable\": \"Northeast Branch\", \"value\": 355319}, {\"year\": 2013, \"variable\": \"Northeast Branch\", \"value\": 362367}, {\"year\": 2014, \"variable\": \"Northeast Branch\", \"value\": 346812}, {\"year\": 2015, \"variable\": \"Northeast Branch\", \"value\": 345190}, {\"year\": 2016, \"variable\": \"Northeast Branch\", \"value\": 324149}, {\"year\": 2017, \"variable\": \"Northeast Branch\", \"value\": 300124}, {\"year\": 2018, \"variable\": \"Northeast Branch\", \"value\": 313561}, {\"year\": 2019, \"variable\": \"Northeast Branch\", \"value\": 293009}, {\"year\": 2010, \"variable\": \"International District/Chinatown Branch\", \"value\": 85527}, {\"year\": 2011, \"variable\": \"International District/Chinatown Branch\", \"value\": 74127}, {\"year\": 2012, \"variable\": \"International District/Chinatown Branch\", \"value\": 65410}, {\"year\": 2013, \"variable\": \"International District/Chinatown Branch\", \"value\": 69524}, {\"year\": 2014, \"variable\": \"International District/Chinatown Branch\", \"value\": 62824}, {\"year\": 2015, \"variable\": \"International District/Chinatown Branch\", \"value\": 64779}, {\"year\": 2016, \"variable\": \"International District/Chinatown Branch\", \"value\": 61124}, {\"year\": 2017, \"variable\": \"International District/Chinatown Branch\", \"value\": 64997}, {\"year\": 2018, \"variable\": \"International District/Chinatown Branch\", \"value\": 67416}, {\"year\": 2019, \"variable\": \"International District/Chinatown Branch\", \"value\": 60943}, {\"year\": 2010, \"variable\": \"Capitol Hill Branch\", \"value\": 306521}, {\"year\": 2011, \"variable\": \"Capitol Hill Branch\", \"value\": 292779}, {\"year\": 2012, \"variable\": \"Capitol Hill Branch\", \"value\": 267810}, {\"year\": 2013, \"variable\": \"Capitol Hill Branch\", \"value\": 271931}, {\"year\": 2014, \"variable\": \"Capitol Hill Branch\", \"value\": 276470}, {\"year\": 2015, \"variable\": \"Capitol Hill Branch\", \"value\": 246881}, {\"year\": 2016, \"variable\": \"Capitol Hill Branch\", \"value\": 289222}, {\"year\": 2017, \"variable\": \"Capitol Hill Branch\", \"value\": 278662}, {\"year\": 2018, \"variable\": \"Capitol Hill Branch\", \"value\": 274472}, {\"year\": 2019, \"variable\": \"Capitol Hill Branch\", \"value\": 260500}, {\"year\": 2010, \"variable\": \"Wallingford Branch\", \"value\": 130846}, {\"year\": 2011, \"variable\": \"Wallingford Branch\", \"value\": 125697}, {\"year\": 2012, \"variable\": \"Wallingford Branch\", \"value\": 119731}, {\"year\": 2013, \"variable\": \"Wallingford Branch\", \"value\": 137122}, {\"year\": 2014, \"variable\": \"Wallingford Branch\", \"value\": 136438}, {\"year\": 2015, \"variable\": \"Wallingford Branch\", \"value\": 113748}, {\"year\": 2016, \"variable\": \"Wallingford Branch\", \"value\": 114097}, {\"year\": 2017, \"variable\": \"Wallingford Branch\", \"value\": 100056}, {\"year\": 2018, \"variable\": \"Wallingford Branch\", \"value\": 103404}, {\"year\": 2019, \"variable\": \"Wallingford Branch\", \"value\": 103417}, {\"year\": 2010, \"variable\": \"Lake City Branch\", \"value\": 293029}, {\"year\": 2011, \"variable\": \"Lake City Branch\", \"value\": 286542}, {\"year\": 2012, \"variable\": \"Lake City Branch\", \"value\": 293974}, {\"year\": 2013, \"variable\": \"Lake City Branch\", \"value\": 277030}, {\"year\": 2014, \"variable\": \"Lake City Branch\", \"value\": 265926}, {\"year\": 2015, \"variable\": \"Lake City Branch\", \"value\": 268951}, {\"year\": 2016, \"variable\": \"Lake City Branch\", \"value\": 240921}, {\"year\": 2017, \"variable\": \"Lake City Branch\", \"value\": 221496}, {\"year\": 2018, \"variable\": \"Lake City Branch\", \"value\": 72657}, {\"year\": 2019, \"variable\": \"Lake City Branch\", \"value\": 194365}, {\"year\": 2010, \"variable\": \"Broadview Branch\", \"value\": 298902}, {\"year\": 2011, \"variable\": \"Broadview Branch\", \"value\": 303244}, {\"year\": 2012, \"variable\": \"Broadview Branch\", \"value\": 286152}, {\"year\": 2013, \"variable\": \"Broadview Branch\", \"value\": 286871}, {\"year\": 2014, \"variable\": \"Broadview Branch\", \"value\": 282801}, {\"year\": 2015, \"variable\": \"Broadview Branch\", \"value\": 280325}, {\"year\": 2016, \"variable\": \"Broadview Branch\", \"value\": 223107}, {\"year\": 2017, \"variable\": \"Broadview Branch\", \"value\": 225553}, {\"year\": 2018, \"variable\": \"Broadview Branch\", \"value\": 219709}, {\"year\": 2019, \"variable\": \"Broadview Branch\", \"value\": 203099}, {\"year\": 2010, \"variable\": \"Montlake Branch\", \"value\": 97846}, {\"year\": 2011, \"variable\": \"Montlake Branch\", \"value\": 88275}, {\"year\": 2012, \"variable\": \"Montlake Branch\", \"value\": 85149}, {\"year\": 2013, \"variable\": \"Montlake Branch\", \"value\": 95791}, {\"year\": 2014, \"variable\": \"Montlake Branch\", \"value\": 91446}, {\"year\": 2015, \"variable\": \"Montlake Branch\", \"value\": 87597}, {\"year\": 2016, \"variable\": \"Montlake Branch\", \"value\": 74101}, {\"year\": 2017, \"variable\": \"Montlake Branch\", \"value\": 66529}, {\"year\": 2018, \"variable\": \"Montlake Branch\", \"value\": 70265}, {\"year\": 2019, \"variable\": \"Montlake Branch\", \"value\": 59196}, {\"year\": 2010, \"variable\": \"South Park Branch\", \"value\": 71057}, {\"year\": 2011, \"variable\": \"South Park Branch\", \"value\": 65327}, {\"year\": 2012, \"variable\": \"South Park Branch\", \"value\": 63043}, {\"year\": 2013, \"variable\": \"South Park Branch\", \"value\": 67819}, {\"year\": 2014, \"variable\": \"South Park Branch\", \"value\": 60167}, {\"year\": 2015, \"variable\": \"South Park Branch\", \"value\": 57342}, {\"year\": 2016, \"variable\": \"South Park Branch\", \"value\": 55888}, {\"year\": 2017, \"variable\": \"South Park Branch\", \"value\": 59660}, {\"year\": 2018, \"variable\": \"South Park Branch\", \"value\": 60949}, {\"year\": 2019, \"variable\": \"South Park Branch\", \"value\": 48592}, {\"year\": 2010, \"variable\": \"Delridge Branch\", \"value\": 80169}, {\"year\": 2011, \"variable\": \"Delridge Branch\", \"value\": 65428}, {\"year\": 2012, \"variable\": \"Delridge Branch\", \"value\": 67277}, {\"year\": 2013, \"variable\": \"Delridge Branch\", \"value\": 75241}, {\"year\": 2014, \"variable\": \"Delridge Branch\", \"value\": 58780}, {\"year\": 2015, \"variable\": \"Delridge Branch\", \"value\": 47627}, {\"year\": 2016, \"variable\": \"Delridge Branch\", \"value\": 43798}, {\"year\": 2017, \"variable\": \"Delridge Branch\", \"value\": 38518}, {\"year\": 2018, \"variable\": \"Delridge Branch\", \"value\": 36855}, {\"year\": 2019, \"variable\": \"Delridge Branch\", \"value\": 34997}, {\"year\": 2010, \"variable\": \"Columbia Branch\", \"value\": 137265}, {\"year\": 2011, \"variable\": \"Columbia Branch\", \"value\": 128526}, {\"year\": 2012, \"variable\": \"Columbia Branch\", \"value\": 117374}, {\"year\": 2013, \"variable\": \"Columbia Branch\", \"value\": 185284}, {\"year\": 2014, \"variable\": \"Columbia Branch\", \"value\": 178737}, {\"year\": 2015, \"variable\": \"Columbia Branch\", \"value\": 195250}, {\"year\": 2016, \"variable\": \"Columbia Branch\", \"value\": 186052}, {\"year\": 2017, \"variable\": \"Columbia Branch\", \"value\": 176842}, {\"year\": 2018, \"variable\": \"Columbia Branch\", \"value\": 175301}, {\"year\": 2019, \"variable\": \"Columbia Branch\", \"value\": 161349}, {\"year\": 2010, \"variable\": \"University Branch\", \"value\": 182207}, {\"year\": 2011, \"variable\": \"University Branch\", \"value\": 167201}, {\"year\": 2012, \"variable\": \"University Branch\", \"value\": 163186}, {\"year\": 2013, \"variable\": \"University Branch\", \"value\": 189823}, {\"year\": 2014, \"variable\": \"University Branch\", \"value\": 186370}, {\"year\": 2015, \"variable\": \"University Branch\", \"value\": 167597}, {\"year\": 2016, \"variable\": \"University Branch\", \"value\": 115732}, {\"year\": 2017, \"variable\": \"University Branch\", \"value\": 119820}, {\"year\": 2018, \"variable\": \"University Branch\", \"value\": 135762}, {\"year\": 2019, \"variable\": \"University Branch\", \"value\": 127376}, {\"year\": 2010, \"variable\": \"Queen Anne Branch\", \"value\": 144095}, {\"year\": 2011, \"variable\": \"Queen Anne Branch\", \"value\": 136181}, {\"year\": 2012, \"variable\": \"Queen Anne Branch\", \"value\": 130775}, {\"year\": 2013, \"variable\": \"Queen Anne Branch\", \"value\": 146895}, {\"year\": 2014, \"variable\": \"Queen Anne Branch\", \"value\": 144448}, {\"year\": 2015, \"variable\": \"Queen Anne Branch\", \"value\": 137611}, {\"year\": 2016, \"variable\": \"Queen Anne Branch\", \"value\": 142148}, {\"year\": 2017, \"variable\": \"Queen Anne Branch\", \"value\": 135602}, {\"year\": 2018, \"variable\": \"Queen Anne Branch\", \"value\": 137621}, {\"year\": 2019, \"variable\": \"Queen Anne Branch\", \"value\": 128886}, {\"year\": 2010, \"variable\": \"West Seattle Branch\", \"value\": 178327}, {\"year\": 2011, \"variable\": \"West Seattle Branch\", \"value\": 192291}, {\"year\": 2012, \"variable\": \"West Seattle Branch\", \"value\": 194836}, {\"year\": 2013, \"variable\": \"West Seattle Branch\", \"value\": 196806}, {\"year\": 2014, \"variable\": \"West Seattle Branch\", \"value\": 185427}, {\"year\": 2015, \"variable\": \"West Seattle Branch\", \"value\": 179839}, {\"year\": 2016, \"variable\": \"West Seattle Branch\", \"value\": 170350}, {\"year\": 2017, \"variable\": \"West Seattle Branch\", \"value\": 166504}, {\"year\": 2018, \"variable\": \"West Seattle Branch\", \"value\": 167019}, {\"year\": 2019, \"variable\": \"West Seattle Branch\", \"value\": 167397}, {\"year\": 2010, \"variable\": \"Madrona-Sally Goldmark Branch\", \"value\": 71187}, {\"year\": 2011, \"variable\": \"Madrona-Sally Goldmark Branch\", \"value\": 61881}, {\"year\": 2012, \"variable\": \"Madrona-Sally Goldmark Branch\", \"value\": 60821}, {\"year\": 2013, \"variable\": \"Madrona-Sally Goldmark Branch\", \"value\": 70279}, {\"year\": 2014, \"variable\": \"Madrona-Sally Goldmark Branch\", \"value\": 65966}, {\"year\": 2015, \"variable\": \"Madrona-Sally Goldmark Branch\", \"value\": 69573}, {\"year\": 2016, \"variable\": \"Madrona-Sally Goldmark Branch\", \"value\": 65142}, {\"year\": 2017, \"variable\": \"Madrona-Sally Goldmark Branch\", \"value\": 60240}, {\"year\": 2018, \"variable\": \"Madrona-Sally Goldmark Branch\", \"value\": 56110}, {\"year\": 2019, \"variable\": \"Madrona-Sally Goldmark Branch\", \"value\": 58110}, {\"year\": 2010, \"variable\": \"Green Lake Branch\", \"value\": 208355}, {\"year\": 2011, \"variable\": \"Green Lake Branch\", \"value\": 201630}, {\"year\": 2012, \"variable\": \"Green Lake Branch\", \"value\": 185062}, {\"year\": 2013, \"variable\": \"Green Lake Branch\", \"value\": 203291}, {\"year\": 2014, \"variable\": \"Green Lake Branch\", \"value\": 200932}, {\"year\": 2015, \"variable\": \"Green Lake Branch\", \"value\": 123816}, {\"year\": 2016, \"variable\": \"Green Lake Branch\", \"value\": 123251}, {\"year\": 2017, \"variable\": \"Green Lake Branch\", \"value\": 76522}, {\"year\": 2018, \"variable\": \"Green Lake Branch\", \"value\": 118741}, {\"year\": 2019, \"variable\": \"Green Lake Branch\", \"value\": 89041}, {\"year\": 2010, \"variable\": \"Beacon Hill Branch\", \"value\": 289636}, {\"year\": 2011, \"variable\": \"Beacon Hill Branch\", \"value\": 286050}, {\"year\": 2012, \"variable\": \"Beacon Hill Branch\", \"value\": 250736}, {\"year\": 2013, \"variable\": \"Beacon Hill Branch\", \"value\": 252872}, {\"year\": 2014, \"variable\": \"Beacon Hill Branch\", \"value\": 248777}, {\"year\": 2015, \"variable\": \"Beacon Hill Branch\", \"value\": 245745}, {\"year\": 2016, \"variable\": \"Beacon Hill Branch\", \"value\": 235848}, {\"year\": 2017, \"variable\": \"Beacon Hill Branch\", \"value\": 192620}, {\"year\": 2018, \"variable\": \"Beacon Hill Branch\", \"value\": 221965}, {\"year\": 2019, \"variable\": \"Beacon Hill Branch\", \"value\": 210121}, {\"year\": 2010, \"variable\": \"Fremont Branch\", \"value\": 85480}, {\"year\": 2011, \"variable\": \"Fremont Branch\", \"value\": 78856}, {\"year\": 2012, \"variable\": \"Fremont Branch\", \"value\": 74063}, {\"year\": 2013, \"variable\": \"Fremont Branch\", \"value\": 84345}, {\"year\": 2014, \"variable\": \"Fremont Branch\", \"value\": 80977}, {\"year\": 2015, \"variable\": \"Fremont Branch\", \"value\": 80243}, {\"year\": 2016, \"variable\": \"Fremont Branch\", \"value\": 93602}, {\"year\": 2017, \"variable\": \"Fremont Branch\", \"value\": 119350}, {\"year\": 2018, \"variable\": \"Fremont Branch\", \"value\": 77263}, {\"year\": 2019, \"variable\": \"Fremont Branch\", \"value\": 75503}, {\"year\": 2010, \"variable\": \"Southwest Branch\", \"value\": 211819}, {\"year\": 2011, \"variable\": \"Southwest Branch\", \"value\": 209572}, {\"year\": 2012, \"variable\": \"Southwest Branch\", \"value\": 210959}, {\"year\": 2013, \"variable\": \"Southwest Branch\", \"value\": 191699}, {\"year\": 2014, \"variable\": \"Southwest Branch\", \"value\": 188682}, {\"year\": 2015, \"variable\": \"Southwest Branch\", \"value\": 195335}, {\"year\": 2016, \"variable\": \"Southwest Branch\", \"value\": 187134}, {\"year\": 2017, \"variable\": \"Southwest Branch\", \"value\": 174980}, {\"year\": 2018, \"variable\": \"Southwest Branch\", \"value\": 169651}, {\"year\": 2019, \"variable\": \"Southwest Branch\", \"value\": 166923}]}}, {\"mode\": \"vega-lite\"});\n",
       "</script>"
      ],
      "text/plain": [
       "alt.Chart(...)"
      ]
     },
     "execution_count": 57,
     "metadata": {},
     "output_type": "execute_result"
    }
   ],
   "source": [
    "# branch_traffic2"
   ]
  },
  {
   "cell_type": "code",
   "execution_count": 58,
   "metadata": {},
   "outputs": [
    {
     "data": {
      "text/html": [
       "\n",
       "<div id=\"altair-viz-7a794ef5c1174438ae5967acebdb9a0d\"></div>\n",
       "<script type=\"text/javascript\">\n",
       "  (function(spec, embedOpt){\n",
       "    let outputDiv = document.currentScript.previousElementSibling;\n",
       "    if (outputDiv.id !== \"altair-viz-7a794ef5c1174438ae5967acebdb9a0d\") {\n",
       "      outputDiv = document.getElementById(\"altair-viz-7a794ef5c1174438ae5967acebdb9a0d\");\n",
       "    }\n",
       "    const paths = {\n",
       "      \"vega\": \"https://cdn.jsdelivr.net/npm//vega@5?noext\",\n",
       "      \"vega-lib\": \"https://cdn.jsdelivr.net/npm//vega-lib?noext\",\n",
       "      \"vega-lite\": \"https://cdn.jsdelivr.net/npm//vega-lite@4.8.1?noext\",\n",
       "      \"vega-embed\": \"https://cdn.jsdelivr.net/npm//vega-embed@6?noext\",\n",
       "    };\n",
       "\n",
       "    function loadScript(lib) {\n",
       "      return new Promise(function(resolve, reject) {\n",
       "        var s = document.createElement('script');\n",
       "        s.src = paths[lib];\n",
       "        s.async = true;\n",
       "        s.onload = () => resolve(paths[lib]);\n",
       "        s.onerror = () => reject(`Error loading script: ${paths[lib]}`);\n",
       "        document.getElementsByTagName(\"head\")[0].appendChild(s);\n",
       "      });\n",
       "    }\n",
       "\n",
       "    function showError(err) {\n",
       "      outputDiv.innerHTML = `<div class=\"error\" style=\"color:red;\">${err}</div>`;\n",
       "      throw err;\n",
       "    }\n",
       "\n",
       "    function displayChart(vegaEmbed) {\n",
       "      vegaEmbed(outputDiv, spec, embedOpt)\n",
       "        .catch(err => showError(`Javascript Error: ${err.message}<br>This usually means there's a typo in your chart specification. See the javascript console for the full traceback.`));\n",
       "    }\n",
       "\n",
       "    if(typeof define === \"function\" && define.amd) {\n",
       "      requirejs.config({paths});\n",
       "      require([\"vega-embed\"], displayChart, err => showError(`Error loading script: ${err.message}`));\n",
       "    } else if (typeof vegaEmbed === \"function\") {\n",
       "      displayChart(vegaEmbed);\n",
       "    } else {\n",
       "      loadScript(\"vega\")\n",
       "        .then(() => loadScript(\"vega-lite\"))\n",
       "        .then(() => loadScript(\"vega-embed\"))\n",
       "        .catch(showError)\n",
       "        .then(() => displayChart(vegaEmbed));\n",
       "    }\n",
       "  })({\"config\": {\"view\": {\"continuousWidth\": 400, \"continuousHeight\": 300}}, \"layer\": [{\"data\": {\"name\": \"data-ceea63c444647adf8cdccec322de292e\"}, \"mark\": \"circle\", \"encoding\": {\"color\": {\"type\": \"nominal\", \"field\": \"branch\"}, \"tooltip\": [{\"type\": \"nominal\", \"field\": \"branch\", \"title\": \"Branch: \"}], \"x\": {\"type\": \"nominal\", \"field\": \"branch\", \"sort\": \"y\"}, \"y\": {\"type\": \"quantitative\", \"field\": \"r_values\", \"title\": \"Relation of Visits to Checkouts\"}}, \"height\": 500, \"title\": \"Correlation of door counts to circulation 2010 to 2019\", \"width\": 800}, {\"data\": {\"name\": \"data-06fd9f850666401b4599de5588b60692\"}, \"mark\": {\"type\": \"rule\", \"color\": \"red\"}, \"encoding\": {\"y\": {\"type\": \"quantitative\", \"field\": \"y\"}}}], \"$schema\": \"https://vega.github.io/schema/vega-lite/v4.8.1.json\", \"datasets\": {\"data-ceea63c444647adf8cdccec322de292e\": [{\"branch\": \"Northgate Branch\", \"r_values\": 0.9287976881515776}, {\"branch\": \"High Point Branch\", \"r_values\": 0.8936040391476033}, {\"branch\": \"Rainier Beach Branch\", \"r_values\": 0.9365734714349737}, {\"branch\": \"Douglass-Truth Branch\", \"r_values\": 0.48452442439615917}, {\"branch\": \"Magnolia Branch\", \"r_values\": 0.9779709870574134}, {\"branch\": \"NewHolly Branch\", \"r_values\": -0.4120481552540551}, {\"branch\": \"Ballard Branch\", \"r_values\": 0.9716332089435525}, {\"branch\": \"Greenwood Branch\", \"r_values\": 0.849626584179983}, {\"branch\": \"Northeast Branch\", \"r_values\": -0.19705022280830292}, {\"branch\": \"International District/Chinatown Branch\", \"r_values\": 0.9256367854289733}, {\"branch\": \"Capitol Hill Branch\", \"r_values\": 0.47342550240258874}, {\"branch\": \"Wallingford Branch\", \"r_values\": 0.6716872454037364}, {\"branch\": \"Lake City Branch\", \"r_values\": 0.7443862036310834}, {\"branch\": \"Broadview Branch\", \"r_values\": 0.7382586819197853}, {\"branch\": \"Montlake Branch\", \"r_values\": -0.012294810674859153}, {\"branch\": \"South Park Branch\", \"r_values\": 0.7174473114891686}, {\"branch\": \"Delridge Branch\", \"r_values\": 0.9493736966764553}, {\"branch\": \"Columbia Branch\", \"r_values\": 0.8666274257248964}, {\"branch\": \"University Branch\", \"r_values\": 0.017145003564468044}, {\"branch\": \"Queen Anne Branch\", \"r_values\": 0.8667124677124082}, {\"branch\": \"West Seattle Branch\", \"r_values\": 0.5636362232277758}, {\"branch\": \"Madrona-Sally Goldmark Branch\", \"r_values\": 0.8345138606247168}, {\"branch\": \"Green Lake Branch\", \"r_values\": 0.8628435417535582}, {\"branch\": \"Beacon Hill Branch\", \"r_values\": 0.860577298735468}, {\"branch\": \"Central Library\", \"r_values\": 0.8633517269721375}, {\"branch\": \"Fremont Branch\", \"r_values\": 0.888756556636551}, {\"branch\": \"Southwest Branch\", \"r_values\": 0.7629153291501038}], \"data-06fd9f850666401b4599de5588b60692\": [{\"y\": 0}]}}, {\"mode\": \"vega-lite\"});\n",
       "</script>"
      ],
      "text/plain": [
       "alt.LayerChart(...)"
      ]
     },
     "execution_count": 58,
     "metadata": {},
     "output_type": "execute_result"
    }
   ],
   "source": [
    "# useage"
   ]
  },
  {
   "cell_type": "markdown",
   "metadata": {},
   "source": [
    "# The Code to produce these visualizations"
   ]
  },
  {
   "cell_type": "code",
   "execution_count": 5,
   "metadata": {},
   "outputs": [],
   "source": [
    "import pandas as pd\n",
    "import numpy as np\n",
    "from datetime import datetime\n",
    "import altair as alt\n",
    "from altair_saver import save\n",
    "from pyspark.sql import SparkSession"
   ]
  },
  {
   "cell_type": "code",
   "execution_count": 6,
   "metadata": {},
   "outputs": [],
   "source": [
    "from pyspark.sql.functions import *\n",
    "from pyspark.sql.types import *"
   ]
  },
  {
   "cell_type": "code",
   "execution_count": 7,
   "metadata": {},
   "outputs": [],
   "source": [
    "from functools import reduce"
   ]
  },
  {
   "cell_type": "code",
   "execution_count": 8,
   "metadata": {},
   "outputs": [],
   "source": [
    "spark = SparkSession \\\n",
    "    .builder \\\n",
    "    .master(\"local[*]\") \\\n",
    "    .appName('LibraryProject') \\\n",
    "    .getOrCreate() \n",
    "\n",
    "sc = spark.sparkContext"
   ]
  },
  {
   "cell_type": "markdown",
   "metadata": {},
   "source": [
    "### Path to the csv file for checkouts: adjust as needed"
   ]
  },
  {
   "cell_type": "code",
   "execution_count": 9,
   "metadata": {},
   "outputs": [],
   "source": [
    "# Checkout information\n",
    "df = spark.read.option(\"header\", True).csv('../ProjectData/checkouts.csv')"
   ]
  },
  {
   "cell_type": "code",
   "execution_count": 10,
   "metadata": {},
   "outputs": [],
   "source": [
    "# if running with the included small sample of the total checkouts dataset\n",
    "# update with your path...not to insult your intelligence \n",
    "\n",
    "# df = spark.read.option(\"header\", True).csv('../ProjectData/smaller_sample_checkouts.csv')"
   ]
  },
  {
   "cell_type": "markdown",
   "metadata": {},
   "source": [
    "## Configure Date information"
   ]
  },
  {
   "cell_type": "code",
   "execution_count": 11,
   "metadata": {},
   "outputs": [],
   "source": [
    "df_1 = df.withColumn('Checkout', regexp_extract('CheckoutDateTime', r\"([0-9\\/]+)\", 1))"
   ]
  },
  {
   "cell_type": "code",
   "execution_count": 12,
   "metadata": {},
   "outputs": [],
   "source": [
    "df_2 = df_1.withColumn('Checkout', to_date(col(\"Checkout\"), 'MM/d/yyyy'))"
   ]
  },
  {
   "cell_type": "code",
   "execution_count": 13,
   "metadata": {},
   "outputs": [],
   "source": [
    "df_3 = df_2.withColumn('year', year('Checkout'))"
   ]
  },
  {
   "cell_type": "code",
   "execution_count": 14,
   "metadata": {},
   "outputs": [],
   "source": [
    "df_ = df_3.withColumn('month', month('Checkout'))"
   ]
  },
  {
   "cell_type": "markdown",
   "metadata": {},
   "source": [
    "## Checkouts by Year"
   ]
  },
  {
   "cell_type": "code",
   "execution_count": 15,
   "metadata": {},
   "outputs": [],
   "source": [
    "df_.createOrReplaceTempView(\"df_full\")"
   ]
  },
  {
   "cell_type": "code",
   "execution_count": 16,
   "metadata": {},
   "outputs": [],
   "source": [
    "query = \"\"\"\n",
    "SELECT year, count(ID)\n",
    "FROM df_full\n",
    "GROUP BY year\n",
    "ORDER BY year\n",
    "\"\"\""
   ]
  },
  {
   "cell_type": "code",
   "execution_count": 17,
   "metadata": {},
   "outputs": [],
   "source": [
    "df_count_years = spark.sql(query)"
   ]
  },
  {
   "cell_type": "code",
   "execution_count": 18,
   "metadata": {},
   "outputs": [],
   "source": [
    "df_count = df_count_years.toPandas()\n",
    "df_count = df_count.rename({'count(ID)':'Checkouts'}, axis=1)\n",
    "# df_count"
   ]
  },
  {
   "cell_type": "markdown",
   "metadata": {},
   "source": [
    "## Add Door Count Information (Visits to the branches)"
   ]
  },
  {
   "cell_type": "code",
   "execution_count": 19,
   "metadata": {},
   "outputs": [],
   "source": [
    "url = \"https://gist.githubusercontent.com/Cameron-Grams/565526991400ade865e48d1aebb7cdd5/raw/61394eb466550c239a56e7f83eef1a66e4130329/door_counts_all\"\n",
    "df_door = pd.read_csv(url)"
   ]
  },
  {
   "cell_type": "code",
   "execution_count": 20,
   "metadata": {},
   "outputs": [],
   "source": [
    "df_door['datetime'] = df_door.apply(lambda x: datetime.strptime(x['time_period'], '%Y-%m-%d'), axis = 1)"
   ]
  },
  {
   "cell_type": "code",
   "execution_count": 21,
   "metadata": {},
   "outputs": [],
   "source": [
    "df_door['year'] = df_door.apply(lambda x: (x['datetime']).year, axis = 1)"
   ]
  },
  {
   "cell_type": "markdown",
   "metadata": {},
   "source": [
    "## Compare the visits to total checkouts"
   ]
  },
  {
   "cell_type": "code",
   "execution_count": 22,
   "metadata": {},
   "outputs": [],
   "source": [
    "# monthly total visits\n",
    "df_month_totals = df_door[df_door['Branch'] == 'Total']"
   ]
  },
  {
   "cell_type": "code",
   "execution_count": 23,
   "metadata": {},
   "outputs": [],
   "source": [
    "# df_month_totals.head(20)"
   ]
  },
  {
   "cell_type": "code",
   "execution_count": 24,
   "metadata": {},
   "outputs": [],
   "source": [
    "df_year_totals = df_month_totals.groupby('year')['Total_visits'].sum()"
   ]
  },
  {
   "cell_type": "code",
   "execution_count": 25,
   "metadata": {},
   "outputs": [],
   "source": [
    "df_yr_visits = pd.DataFrame(df_year_totals)\n",
    "# df_yr_visits"
   ]
  },
  {
   "cell_type": "code",
   "execution_count": 26,
   "metadata": {},
   "outputs": [],
   "source": [
    "df_count = df_count.set_index('year')\n",
    "#df_count"
   ]
  },
  {
   "cell_type": "code",
   "execution_count": 27,
   "metadata": {},
   "outputs": [],
   "source": [
    "df_compare_totals = df_count.merge(df_yr_visits, on='year', how='outer')"
   ]
  },
  {
   "cell_type": "code",
   "execution_count": 28,
   "metadata": {},
   "outputs": [],
   "source": [
    "df_compare_totals = df_compare_totals.dropna()\n",
    "df_compare_totals = df_compare_totals.reset_index()\n",
    "#df_compare_totals"
   ]
  },
  {
   "cell_type": "code",
   "execution_count": 29,
   "metadata": {},
   "outputs": [],
   "source": [
    "df_c = pd.melt(df_compare_totals, id_vars=['year'], value_vars = ['Checkouts', 'Total_visits'])"
   ]
  },
  {
   "cell_type": "code",
   "execution_count": 30,
   "metadata": {},
   "outputs": [],
   "source": [
    "checkout_visit = alt.Chart(df_c).mark_line().encode(\n",
    "    x = alt.X('year:N'),\n",
    "    y = alt.Y('value:Q', title='Counts'),\n",
    "    color = 'variable:N'\n",
    ").properties(\n",
    "    width = 500,\n",
    "    title = \"Comparion of Library Visits to Checkout of Physical Items\"\n",
    ")"
   ]
  },
  {
   "cell_type": "code",
   "execution_count": 31,
   "metadata": {},
   "outputs": [
    {
     "data": {
      "text/html": [
       "\n",
       "<div id=\"altair-viz-5a7fe1ae744e474e8d6195417febb8b0\"></div>\n",
       "<script type=\"text/javascript\">\n",
       "  (function(spec, embedOpt){\n",
       "    let outputDiv = document.currentScript.previousElementSibling;\n",
       "    if (outputDiv.id !== \"altair-viz-5a7fe1ae744e474e8d6195417febb8b0\") {\n",
       "      outputDiv = document.getElementById(\"altair-viz-5a7fe1ae744e474e8d6195417febb8b0\");\n",
       "    }\n",
       "    const paths = {\n",
       "      \"vega\": \"https://cdn.jsdelivr.net/npm//vega@5?noext\",\n",
       "      \"vega-lib\": \"https://cdn.jsdelivr.net/npm//vega-lib?noext\",\n",
       "      \"vega-lite\": \"https://cdn.jsdelivr.net/npm//vega-lite@4.8.1?noext\",\n",
       "      \"vega-embed\": \"https://cdn.jsdelivr.net/npm//vega-embed@6?noext\",\n",
       "    };\n",
       "\n",
       "    function loadScript(lib) {\n",
       "      return new Promise(function(resolve, reject) {\n",
       "        var s = document.createElement('script');\n",
       "        s.src = paths[lib];\n",
       "        s.async = true;\n",
       "        s.onload = () => resolve(paths[lib]);\n",
       "        s.onerror = () => reject(`Error loading script: ${paths[lib]}`);\n",
       "        document.getElementsByTagName(\"head\")[0].appendChild(s);\n",
       "      });\n",
       "    }\n",
       "\n",
       "    function showError(err) {\n",
       "      outputDiv.innerHTML = `<div class=\"error\" style=\"color:red;\">${err}</div>`;\n",
       "      throw err;\n",
       "    }\n",
       "\n",
       "    function displayChart(vegaEmbed) {\n",
       "      vegaEmbed(outputDiv, spec, embedOpt)\n",
       "        .catch(err => showError(`Javascript Error: ${err.message}<br>This usually means there's a typo in your chart specification. See the javascript console for the full traceback.`));\n",
       "    }\n",
       "\n",
       "    if(typeof define === \"function\" && define.amd) {\n",
       "      requirejs.config({paths});\n",
       "      require([\"vega-embed\"], displayChart, err => showError(`Error loading script: ${err.message}`));\n",
       "    } else if (typeof vegaEmbed === \"function\") {\n",
       "      displayChart(vegaEmbed);\n",
       "    } else {\n",
       "      loadScript(\"vega\")\n",
       "        .then(() => loadScript(\"vega-lite\"))\n",
       "        .then(() => loadScript(\"vega-embed\"))\n",
       "        .catch(showError)\n",
       "        .then(() => displayChart(vegaEmbed));\n",
       "    }\n",
       "  })({\"config\": {\"view\": {\"continuousWidth\": 400, \"continuousHeight\": 300}}, \"data\": {\"name\": \"data-29e74c6c36207c5bf95da76d86eabe52\"}, \"mark\": \"line\", \"encoding\": {\"color\": {\"type\": \"nominal\", \"field\": \"variable\"}, \"x\": {\"type\": \"nominal\", \"field\": \"year\"}, \"y\": {\"type\": \"quantitative\", \"field\": \"value\", \"title\": \"Counts\"}}, \"title\": \"Comparion of Library Visits to Checkout of Physical Items\", \"width\": 500, \"$schema\": \"https://vega.github.io/schema/vega-lite/v4.8.1.json\", \"datasets\": {\"data-29e74c6c36207c5bf95da76d86eabe52\": [{\"year\": 2010, \"variable\": \"Checkouts\", \"value\": 8425046.0}, {\"year\": 2011, \"variable\": \"Checkouts\", \"value\": 7784795.0}, {\"year\": 2012, \"variable\": \"Checkouts\", \"value\": 7299124.0}, {\"year\": 2013, \"variable\": \"Checkouts\", \"value\": 7864260.0}, {\"year\": 2014, \"variable\": \"Checkouts\", \"value\": 7416879.0}, {\"year\": 2015, \"variable\": \"Checkouts\", \"value\": 6871626.0}, {\"year\": 2016, \"variable\": \"Checkouts\", \"value\": 6404830.0}, {\"year\": 2017, \"variable\": \"Checkouts\", \"value\": 6213798.0}, {\"year\": 2018, \"variable\": \"Checkouts\", \"value\": 6020702.0}, {\"year\": 2019, \"variable\": \"Checkouts\", \"value\": 5703704.0}, {\"year\": 2010, \"variable\": \"Total_visits\", \"value\": 6932753.0}, {\"year\": 2011, \"variable\": \"Total_visits\", \"value\": 6748230.0}, {\"year\": 2012, \"variable\": \"Total_visits\", \"value\": 6466073.0}, {\"year\": 2013, \"variable\": \"Total_visits\", \"value\": 6742275.0}, {\"year\": 2014, \"variable\": \"Total_visits\", \"value\": 6557748.0}, {\"year\": 2015, \"variable\": \"Total_visits\", \"value\": 6082046.0}, {\"year\": 2016, \"variable\": \"Total_visits\", \"value\": 5682628.0}, {\"year\": 2017, \"variable\": \"Total_visits\", \"value\": 5389626.0}, {\"year\": 2018, \"variable\": \"Total_visits\", \"value\": 5413286.0}, {\"year\": 2019, \"variable\": \"Total_visits\", \"value\": 5139142.0}]}}, {\"mode\": \"vega-lite\"});\n",
       "</script>"
      ],
      "text/plain": [
       "alt.Chart(...)"
      ]
     },
     "execution_count": 31,
     "metadata": {},
     "output_type": "execute_result"
    }
   ],
   "source": [
    "checkout_visit"
   ]
  },
  {
   "cell_type": "code",
   "execution_count": 32,
   "metadata": {},
   "outputs": [],
   "source": [
    "checkout_visit.save('comapre_visits_checkouts_years.html')"
   ]
  },
  {
   "cell_type": "markdown",
   "metadata": {},
   "source": [
    "# Relative Use by Branch"
   ]
  },
  {
   "cell_type": "code",
   "execution_count": 33,
   "metadata": {},
   "outputs": [],
   "source": [
    "def door_count_df(df):\n",
    "    all_branch_list = []\n",
    "\n",
    "    branches = ['BAL', 'BEA', 'BRO', 'CAP',\n",
    "        'CEN', 'COL', 'DLR', 'DTH', 'FRE', 'GLK', 'GWD', 'HIP', 'IDC', 'LCY',\n",
    "        'MAG', 'MGM', 'MON', 'NET', 'NGA', 'NHY', 'QNA', 'RBE', 'SPA', 'SWT', \n",
    "        'UNI', 'WAL','WTS']\n",
    "\n",
    "    for branch in branches:\n",
    "        df_ = df[ df['Branch']  == branch]\n",
    "        df_b = df_.groupby('year')['Total_visits'].sum()\n",
    "#        df_b = df_b.reset_index()\n",
    "        df_b = pd.DataFrame(df_b)\n",
    "        df_b = df_b.rename({'Total_visits': branch}, axis=1)\n",
    "        all_branch_list.append(df_b)\n",
    "\n",
    "    return_df = reduce(lambda x, y: pd.merge(x, y, left_index=True, right_index=True), all_branch_list)\n",
    "\n",
    "    return return_df"
   ]
  },
  {
   "cell_type": "code",
   "execution_count": 34,
   "metadata": {},
   "outputs": [],
   "source": [
    "df_door_years = door_count_df(df_door)\n",
    "# df_door_years"
   ]
  },
  {
   "cell_type": "code",
   "execution_count": 35,
   "metadata": {},
   "outputs": [],
   "source": [
    "df_large = pd.merge(df_door_years, df_count, left_index=True, right_index=True)"
   ]
  },
  {
   "cell_type": "code",
   "execution_count": 36,
   "metadata": {},
   "outputs": [],
   "source": [
    "def produce_r(df):\n",
    "    r_list = []\n",
    "\n",
    "    branches = ['BAL', 'BEA', 'BRO', 'CAP',\n",
    "        'CEN', 'COL', 'DLR', 'DTH', 'FRE', 'GLK', 'GWD', 'HIP', 'IDC', 'LCY',\n",
    "        'MAG', 'MGM', 'MON', 'NET', 'NGA', 'NHY', 'QNA', 'RBE', 'SPA', 'SWT', \n",
    "        'UNI', 'WAL','WTS']\n",
    "\n",
    "    for branch in branches:\n",
    "        branch_r = df[branch].corr(df['Checkouts'])\n",
    "        r_list.append(branch_r)\n",
    "\n",
    "    return branches, r_list"
   ]
  },
  {
   "cell_type": "code",
   "execution_count": 37,
   "metadata": {},
   "outputs": [],
   "source": [
    "branch_list, all_r = produce_r(df_large)"
   ]
  },
  {
   "cell_type": "code",
   "execution_count": 38,
   "metadata": {},
   "outputs": [],
   "source": [
    "branch_dictionary = pd.read_csv('../ProjectData/dictionary.csv')\n",
    "# branch_dictionary.head()"
   ]
  },
  {
   "cell_type": "code",
   "execution_count": 39,
   "metadata": {},
   "outputs": [
    {
     "data": {
      "text/plain": [
       "0      0.0\n",
       "1      0.0\n",
       "2      0.0\n",
       "3      NaN\n",
       "4      NaN\n",
       "      ... \n",
       "581    0.0\n",
       "582    0.0\n",
       "583    0.0\n",
       "584    0.0\n",
       "585    0.0\n",
       "Length: 586, dtype: float64"
      ]
     },
     "execution_count": 39,
     "metadata": {},
     "output_type": "execute_result"
    }
   ],
   "source": [
    "branch_names = [    ]\n",
    "branch_dictionary.apply(lambda x: branch_names.append(x['Description']) if (x['Code'].upper() in branch_list) else 0, axis = 1)"
   ]
  },
  {
   "cell_type": "code",
   "execution_count": 40,
   "metadata": {},
   "outputs": [],
   "source": [
    "plot_df = pd.DataFrame({'branch': branch_names, 'r_values': all_r})"
   ]
  },
  {
   "cell_type": "code",
   "execution_count": 41,
   "metadata": {},
   "outputs": [],
   "source": [
    "chart = alt.Chart(plot_df).mark_circle().encode(\n",
    "    x = alt.X('branch:N', sort='y'),\n",
    "    y = alt.Y('r_values:Q', title='Relation of Visits to Checkouts'),\n",
    "    color = alt.Color('branch:N'),\n",
    "    tooltip = [alt.Tooltip('branch:N', title='Branch: ')]\n",
    ").properties(\n",
    "    title = 'Correlation of door counts to circulation 2010 to 2019',\n",
    "    width = 800,\n",
    "    height = 500\n",
    ")\n",
    "\n",
    "zero_mark = alt.Chart(pd.DataFrame({'y': [0]})).mark_rule(color='red').encode(\n",
    "    y = 'y'\n",
    ")"
   ]
  },
  {
   "cell_type": "code",
   "execution_count": 42,
   "metadata": {},
   "outputs": [
    {
     "data": {
      "text/html": [
       "\n",
       "<div id=\"altair-viz-3ab424ed02e1451a8ebb0d0e13a9d0b9\"></div>\n",
       "<script type=\"text/javascript\">\n",
       "  (function(spec, embedOpt){\n",
       "    let outputDiv = document.currentScript.previousElementSibling;\n",
       "    if (outputDiv.id !== \"altair-viz-3ab424ed02e1451a8ebb0d0e13a9d0b9\") {\n",
       "      outputDiv = document.getElementById(\"altair-viz-3ab424ed02e1451a8ebb0d0e13a9d0b9\");\n",
       "    }\n",
       "    const paths = {\n",
       "      \"vega\": \"https://cdn.jsdelivr.net/npm//vega@5?noext\",\n",
       "      \"vega-lib\": \"https://cdn.jsdelivr.net/npm//vega-lib?noext\",\n",
       "      \"vega-lite\": \"https://cdn.jsdelivr.net/npm//vega-lite@4.8.1?noext\",\n",
       "      \"vega-embed\": \"https://cdn.jsdelivr.net/npm//vega-embed@6?noext\",\n",
       "    };\n",
       "\n",
       "    function loadScript(lib) {\n",
       "      return new Promise(function(resolve, reject) {\n",
       "        var s = document.createElement('script');\n",
       "        s.src = paths[lib];\n",
       "        s.async = true;\n",
       "        s.onload = () => resolve(paths[lib]);\n",
       "        s.onerror = () => reject(`Error loading script: ${paths[lib]}`);\n",
       "        document.getElementsByTagName(\"head\")[0].appendChild(s);\n",
       "      });\n",
       "    }\n",
       "\n",
       "    function showError(err) {\n",
       "      outputDiv.innerHTML = `<div class=\"error\" style=\"color:red;\">${err}</div>`;\n",
       "      throw err;\n",
       "    }\n",
       "\n",
       "    function displayChart(vegaEmbed) {\n",
       "      vegaEmbed(outputDiv, spec, embedOpt)\n",
       "        .catch(err => showError(`Javascript Error: ${err.message}<br>This usually means there's a typo in your chart specification. See the javascript console for the full traceback.`));\n",
       "    }\n",
       "\n",
       "    if(typeof define === \"function\" && define.amd) {\n",
       "      requirejs.config({paths});\n",
       "      require([\"vega-embed\"], displayChart, err => showError(`Error loading script: ${err.message}`));\n",
       "    } else if (typeof vegaEmbed === \"function\") {\n",
       "      displayChart(vegaEmbed);\n",
       "    } else {\n",
       "      loadScript(\"vega\")\n",
       "        .then(() => loadScript(\"vega-lite\"))\n",
       "        .then(() => loadScript(\"vega-embed\"))\n",
       "        .catch(showError)\n",
       "        .then(() => displayChart(vegaEmbed));\n",
       "    }\n",
       "  })({\"config\": {\"view\": {\"continuousWidth\": 400, \"continuousHeight\": 300}}, \"layer\": [{\"data\": {\"name\": \"data-ceea63c444647adf8cdccec322de292e\"}, \"mark\": \"circle\", \"encoding\": {\"color\": {\"type\": \"nominal\", \"field\": \"branch\"}, \"tooltip\": [{\"type\": \"nominal\", \"field\": \"branch\", \"title\": \"Branch: \"}], \"x\": {\"type\": \"nominal\", \"field\": \"branch\", \"sort\": \"y\"}, \"y\": {\"type\": \"quantitative\", \"field\": \"r_values\", \"title\": \"Relation of Visits to Checkouts\"}}, \"height\": 500, \"title\": \"Correlation of door counts to circulation 2010 to 2019\", \"width\": 800}, {\"data\": {\"name\": \"data-06fd9f850666401b4599de5588b60692\"}, \"mark\": {\"type\": \"rule\", \"color\": \"red\"}, \"encoding\": {\"y\": {\"type\": \"quantitative\", \"field\": \"y\"}}}], \"$schema\": \"https://vega.github.io/schema/vega-lite/v4.8.1.json\", \"datasets\": {\"data-ceea63c444647adf8cdccec322de292e\": [{\"branch\": \"Northgate Branch\", \"r_values\": 0.9287976881515776}, {\"branch\": \"High Point Branch\", \"r_values\": 0.8936040391476033}, {\"branch\": \"Rainier Beach Branch\", \"r_values\": 0.9365734714349737}, {\"branch\": \"Douglass-Truth Branch\", \"r_values\": 0.48452442439615917}, {\"branch\": \"Magnolia Branch\", \"r_values\": 0.9779709870574134}, {\"branch\": \"NewHolly Branch\", \"r_values\": -0.4120481552540551}, {\"branch\": \"Ballard Branch\", \"r_values\": 0.9716332089435525}, {\"branch\": \"Greenwood Branch\", \"r_values\": 0.849626584179983}, {\"branch\": \"Northeast Branch\", \"r_values\": -0.19705022280830292}, {\"branch\": \"International District/Chinatown Branch\", \"r_values\": 0.9256367854289733}, {\"branch\": \"Capitol Hill Branch\", \"r_values\": 0.47342550240258874}, {\"branch\": \"Wallingford Branch\", \"r_values\": 0.6716872454037364}, {\"branch\": \"Lake City Branch\", \"r_values\": 0.7443862036310834}, {\"branch\": \"Broadview Branch\", \"r_values\": 0.7382586819197853}, {\"branch\": \"Montlake Branch\", \"r_values\": -0.012294810674859153}, {\"branch\": \"South Park Branch\", \"r_values\": 0.7174473114891686}, {\"branch\": \"Delridge Branch\", \"r_values\": 0.9493736966764553}, {\"branch\": \"Columbia Branch\", \"r_values\": 0.8666274257248964}, {\"branch\": \"University Branch\", \"r_values\": 0.017145003564468044}, {\"branch\": \"Queen Anne Branch\", \"r_values\": 0.8667124677124082}, {\"branch\": \"West Seattle Branch\", \"r_values\": 0.5636362232277758}, {\"branch\": \"Madrona-Sally Goldmark Branch\", \"r_values\": 0.8345138606247168}, {\"branch\": \"Green Lake Branch\", \"r_values\": 0.8628435417535582}, {\"branch\": \"Beacon Hill Branch\", \"r_values\": 0.860577298735468}, {\"branch\": \"Central Library\", \"r_values\": 0.8633517269721375}, {\"branch\": \"Fremont Branch\", \"r_values\": 0.888756556636551}, {\"branch\": \"Southwest Branch\", \"r_values\": 0.7629153291501038}], \"data-06fd9f850666401b4599de5588b60692\": [{\"y\": 0}]}}, {\"mode\": \"vega-lite\"});\n",
       "</script>"
      ],
      "text/plain": [
       "alt.LayerChart(...)"
      ]
     },
     "execution_count": 42,
     "metadata": {},
     "output_type": "execute_result"
    }
   ],
   "source": [
    "useage = chart + zero_mark\n",
    "useage"
   ]
  },
  {
   "cell_type": "code",
   "execution_count": 43,
   "metadata": {},
   "outputs": [],
   "source": [
    "useage.save('relation_visits_checkouts.html')"
   ]
  },
  {
   "cell_type": "code",
   "execution_count": 44,
   "metadata": {},
   "outputs": [],
   "source": [
    "branch_dictionary['upper'] = branch_dictionary.apply(lambda x: x['Code'].upper(), axis=1)\n",
    "bd = branch_dictionary.copy()"
   ]
  },
  {
   "cell_type": "code",
   "execution_count": 45,
   "metadata": {},
   "outputs": [],
   "source": [
    "def key_branches(df):\n",
    "    branch_dict = {}\n",
    "\n",
    "    branches = ['BAL', 'BEA', 'BRO', 'CAP',\n",
    "        'CEN', 'COL', 'DLR', 'DTH', 'FRE', 'GLK', 'GWD', 'HIP', 'IDC', 'LCY',\n",
    "        'MAG', 'MGM', 'MON', 'NET', 'NGA', 'NHY', 'QNA', 'RBE', 'SPA', 'SWT', \n",
    "        'UNI', 'WAL','WTS']\n",
    "\n",
    "    for branch in branches:\n",
    "        rw = df[df['upper'] == branch]\n",
    "        name = list(rw['Description'])[0]\n",
    "        branch_dict[branch] = name\n",
    "\n",
    "    return branch_dict"
   ]
  },
  {
   "cell_type": "code",
   "execution_count": 46,
   "metadata": {},
   "outputs": [],
   "source": [
    "df_p = key_branches(bd)"
   ]
  },
  {
   "cell_type": "code",
   "execution_count": 47,
   "metadata": {},
   "outputs": [],
   "source": [
    "df_plot = df_door_years.rename(df_p, axis=1)\n",
    "df_plot = df_plot.reset_index()\n",
    "df_plot = pd.melt(df_plot, id_vars='year', value_vars=branch_names)\n",
    "# df_plot"
   ]
  },
  {
   "cell_type": "code",
   "execution_count": 48,
   "metadata": {},
   "outputs": [],
   "source": [
    "branch_traffic = alt.Chart(df_plot).mark_line().encode(\n",
    "    x = alt.X('year:N'),\n",
    "    y = alt.Y('value:Q'),\n",
    "    color = alt.Color('variable:N'),\n",
    "    tooltip = [alt.Tooltip('variable:N', title='Branch: ')]\n",
    ").properties(\n",
    "    title = 'Branch Door counts by year',\n",
    "    width = 650,\n",
    "    height = 700\n",
    ")"
   ]
  },
  {
   "cell_type": "code",
   "execution_count": 49,
   "metadata": {
    "scrolled": false
   },
   "outputs": [
    {
     "data": {
      "text/html": [
       "\n",
       "<div id=\"altair-viz-532860be3e21476ab44778543b467123\"></div>\n",
       "<script type=\"text/javascript\">\n",
       "  (function(spec, embedOpt){\n",
       "    let outputDiv = document.currentScript.previousElementSibling;\n",
       "    if (outputDiv.id !== \"altair-viz-532860be3e21476ab44778543b467123\") {\n",
       "      outputDiv = document.getElementById(\"altair-viz-532860be3e21476ab44778543b467123\");\n",
       "    }\n",
       "    const paths = {\n",
       "      \"vega\": \"https://cdn.jsdelivr.net/npm//vega@5?noext\",\n",
       "      \"vega-lib\": \"https://cdn.jsdelivr.net/npm//vega-lib?noext\",\n",
       "      \"vega-lite\": \"https://cdn.jsdelivr.net/npm//vega-lite@4.8.1?noext\",\n",
       "      \"vega-embed\": \"https://cdn.jsdelivr.net/npm//vega-embed@6?noext\",\n",
       "    };\n",
       "\n",
       "    function loadScript(lib) {\n",
       "      return new Promise(function(resolve, reject) {\n",
       "        var s = document.createElement('script');\n",
       "        s.src = paths[lib];\n",
       "        s.async = true;\n",
       "        s.onload = () => resolve(paths[lib]);\n",
       "        s.onerror = () => reject(`Error loading script: ${paths[lib]}`);\n",
       "        document.getElementsByTagName(\"head\")[0].appendChild(s);\n",
       "      });\n",
       "    }\n",
       "\n",
       "    function showError(err) {\n",
       "      outputDiv.innerHTML = `<div class=\"error\" style=\"color:red;\">${err}</div>`;\n",
       "      throw err;\n",
       "    }\n",
       "\n",
       "    function displayChart(vegaEmbed) {\n",
       "      vegaEmbed(outputDiv, spec, embedOpt)\n",
       "        .catch(err => showError(`Javascript Error: ${err.message}<br>This usually means there's a typo in your chart specification. See the javascript console for the full traceback.`));\n",
       "    }\n",
       "\n",
       "    if(typeof define === \"function\" && define.amd) {\n",
       "      requirejs.config({paths});\n",
       "      require([\"vega-embed\"], displayChart, err => showError(`Error loading script: ${err.message}`));\n",
       "    } else if (typeof vegaEmbed === \"function\") {\n",
       "      displayChart(vegaEmbed);\n",
       "    } else {\n",
       "      loadScript(\"vega\")\n",
       "        .then(() => loadScript(\"vega-lite\"))\n",
       "        .then(() => loadScript(\"vega-embed\"))\n",
       "        .catch(showError)\n",
       "        .then(() => displayChart(vegaEmbed));\n",
       "    }\n",
       "  })({\"config\": {\"view\": {\"continuousWidth\": 400, \"continuousHeight\": 300}}, \"data\": {\"name\": \"data-0fed4bd54285e118e904544f222e2b62\"}, \"mark\": \"line\", \"encoding\": {\"color\": {\"type\": \"nominal\", \"field\": \"variable\"}, \"tooltip\": [{\"type\": \"nominal\", \"field\": \"variable\", \"title\": \"Branch: \"}], \"x\": {\"type\": \"nominal\", \"field\": \"year\"}, \"y\": {\"type\": \"quantitative\", \"field\": \"value\"}}, \"height\": 700, \"title\": \"Branch Door counts by year\", \"width\": 650, \"$schema\": \"https://vega.github.io/schema/vega-lite/v4.8.1.json\", \"datasets\": {\"data-0fed4bd54285e118e904544f222e2b62\": [{\"year\": 2010, \"variable\": \"Northgate Branch\", \"value\": 232039}, {\"year\": 2011, \"variable\": \"Northgate Branch\", \"value\": 212547}, {\"year\": 2012, \"variable\": \"Northgate Branch\", \"value\": 184225}, {\"year\": 2013, \"variable\": \"Northgate Branch\", \"value\": 253925}, {\"year\": 2014, \"variable\": \"Northgate Branch\", \"value\": 255163}, {\"year\": 2015, \"variable\": \"Northgate Branch\", \"value\": 258321}, {\"year\": 2016, \"variable\": \"Northgate Branch\", \"value\": 234778}, {\"year\": 2017, \"variable\": \"Northgate Branch\", \"value\": 222216}, {\"year\": 2018, \"variable\": \"Northgate Branch\", \"value\": 263792}, {\"year\": 2019, \"variable\": \"Northgate Branch\", \"value\": 206546}, {\"year\": 2010, \"variable\": \"High Point Branch\", \"value\": 102077}, {\"year\": 2011, \"variable\": \"High Point Branch\", \"value\": 103419}, {\"year\": 2012, \"variable\": \"High Point Branch\", \"value\": 103451}, {\"year\": 2013, \"variable\": \"High Point Branch\", \"value\": 101992}, {\"year\": 2014, \"variable\": \"High Point Branch\", \"value\": 92887}, {\"year\": 2015, \"variable\": \"High Point Branch\", \"value\": 96046}, {\"year\": 2016, \"variable\": \"High Point Branch\", \"value\": 85721}, {\"year\": 2017, \"variable\": \"High Point Branch\", \"value\": 90696}, {\"year\": 2018, \"variable\": \"High Point Branch\", \"value\": 96763}, {\"year\": 2019, \"variable\": \"High Point Branch\", \"value\": 93959}, {\"year\": 2010, \"variable\": \"Rainier Beach Branch\", \"value\": 218208}, {\"year\": 2011, \"variable\": \"Rainier Beach Branch\", \"value\": 218062}, {\"year\": 2012, \"variable\": \"Rainier Beach Branch\", \"value\": 211623}, {\"year\": 2013, \"variable\": \"Rainier Beach Branch\", \"value\": 204404}, {\"year\": 2014, \"variable\": \"Rainier Beach Branch\", \"value\": 206950}, {\"year\": 2015, \"variable\": \"Rainier Beach Branch\", \"value\": 127855}, {\"year\": 2016, \"variable\": \"Rainier Beach Branch\", \"value\": 145970}, {\"year\": 2017, \"variable\": \"Rainier Beach Branch\", \"value\": 160787}, {\"year\": 2018, \"variable\": \"Rainier Beach Branch\", \"value\": 156052}, {\"year\": 2019, \"variable\": \"Rainier Beach Branch\", \"value\": 140926}, {\"year\": 2010, \"variable\": \"Douglass-Truth Branch\", \"value\": 221588}, {\"year\": 2011, \"variable\": \"Douglass-Truth Branch\", \"value\": 250964}, {\"year\": 2012, \"variable\": \"Douglass-Truth Branch\", \"value\": 260450}, {\"year\": 2013, \"variable\": \"Douglass-Truth Branch\", \"value\": 253750}, {\"year\": 2014, \"variable\": \"Douglass-Truth Branch\", \"value\": 240790}, {\"year\": 2015, \"variable\": \"Douglass-Truth Branch\", \"value\": 206517}, {\"year\": 2016, \"variable\": \"Douglass-Truth Branch\", \"value\": 176829}, {\"year\": 2017, \"variable\": \"Douglass-Truth Branch\", \"value\": 179005}, {\"year\": 2018, \"variable\": \"Douglass-Truth Branch\", \"value\": 168450}, {\"year\": 2019, \"variable\": \"Douglass-Truth Branch\", \"value\": 151417}, {\"year\": 2010, \"variable\": \"Magnolia Branch\", \"value\": 112262}, {\"year\": 2011, \"variable\": \"Magnolia Branch\", \"value\": 108179}, {\"year\": 2012, \"variable\": \"Magnolia Branch\", \"value\": 102521}, {\"year\": 2013, \"variable\": \"Magnolia Branch\", \"value\": 114014}, {\"year\": 2014, \"variable\": \"Magnolia Branch\", \"value\": 113728}, {\"year\": 2015, \"variable\": \"Magnolia Branch\", \"value\": 156733}, {\"year\": 2016, \"variable\": \"Magnolia Branch\", \"value\": 113586}, {\"year\": 2017, \"variable\": \"Magnolia Branch\", \"value\": 111875}, {\"year\": 2018, \"variable\": \"Magnolia Branch\", \"value\": 110079}, {\"year\": 2019, \"variable\": \"Magnolia Branch\", \"value\": 107203}, {\"year\": 2010, \"variable\": \"NewHolly Branch\", \"value\": 92535}, {\"year\": 2011, \"variable\": \"NewHolly Branch\", \"value\": 96914}, {\"year\": 2012, \"variable\": \"NewHolly Branch\", \"value\": 80128}, {\"year\": 2013, \"variable\": \"NewHolly Branch\", \"value\": 71290}, {\"year\": 2014, \"variable\": \"NewHolly Branch\", \"value\": 67479}, {\"year\": 2015, \"variable\": \"NewHolly Branch\", \"value\": 69048}, {\"year\": 2016, \"variable\": \"NewHolly Branch\", \"value\": 61094}, {\"year\": 2017, \"variable\": \"NewHolly Branch\", \"value\": 58321}, {\"year\": 2018, \"variable\": \"NewHolly Branch\", \"value\": 58924}, {\"year\": 2019, \"variable\": \"NewHolly Branch\", \"value\": 53429}, {\"year\": 2010, \"variable\": \"Ballard Branch\", \"value\": 462421}, {\"year\": 2011, \"variable\": \"Ballard Branch\", \"value\": 436589}, {\"year\": 2012, \"variable\": \"Ballard Branch\", \"value\": 420828}, {\"year\": 2013, \"variable\": \"Ballard Branch\", \"value\": 424617}, {\"year\": 2014, \"variable\": \"Ballard Branch\", \"value\": 413503}, {\"year\": 2015, \"variable\": \"Ballard Branch\", \"value\": 404936}, {\"year\": 2016, \"variable\": \"Ballard Branch\", \"value\": 338095}, {\"year\": 2017, \"variable\": \"Ballard Branch\", \"value\": 384171}, {\"year\": 2018, \"variable\": \"Ballard Branch\", \"value\": 363410}, {\"year\": 2019, \"variable\": \"Ballard Branch\", \"value\": 346726}, {\"year\": 2010, \"variable\": \"Greenwood Branch\", \"value\": 299670}, {\"year\": 2011, \"variable\": \"Greenwood Branch\", \"value\": 300708}, {\"year\": 2012, \"variable\": \"Greenwood Branch\", \"value\": 296987}, {\"year\": 2013, \"variable\": \"Greenwood Branch\", \"value\": 315275}, {\"year\": 2014, \"variable\": \"Greenwood Branch\", \"value\": 303407}, {\"year\": 2015, \"variable\": \"Greenwood Branch\", \"value\": 305882}, {\"year\": 2016, \"variable\": \"Greenwood Branch\", \"value\": 301125}, {\"year\": 2017, \"variable\": \"Greenwood Branch\", \"value\": 198873}, {\"year\": 2018, \"variable\": \"Greenwood Branch\", \"value\": 295700}, {\"year\": 2019, \"variable\": \"Greenwood Branch\", \"value\": 275649}, {\"year\": 2010, \"variable\": \"Northeast Branch\", \"value\": 345352}, {\"year\": 2011, \"variable\": \"Northeast Branch\", \"value\": 353288}, {\"year\": 2012, \"variable\": \"Northeast Branch\", \"value\": 355319}, {\"year\": 2013, \"variable\": \"Northeast Branch\", \"value\": 362367}, {\"year\": 2014, \"variable\": \"Northeast Branch\", \"value\": 346812}, {\"year\": 2015, \"variable\": \"Northeast Branch\", \"value\": 345190}, {\"year\": 2016, \"variable\": \"Northeast Branch\", \"value\": 324149}, {\"year\": 2017, \"variable\": \"Northeast Branch\", \"value\": 300124}, {\"year\": 2018, \"variable\": \"Northeast Branch\", \"value\": 313561}, {\"year\": 2019, \"variable\": \"Northeast Branch\", \"value\": 293009}, {\"year\": 2010, \"variable\": \"International District/Chinatown Branch\", \"value\": 85527}, {\"year\": 2011, \"variable\": \"International District/Chinatown Branch\", \"value\": 74127}, {\"year\": 2012, \"variable\": \"International District/Chinatown Branch\", \"value\": 65410}, {\"year\": 2013, \"variable\": \"International District/Chinatown Branch\", \"value\": 69524}, {\"year\": 2014, \"variable\": \"International District/Chinatown Branch\", \"value\": 62824}, {\"year\": 2015, \"variable\": \"International District/Chinatown Branch\", \"value\": 64779}, {\"year\": 2016, \"variable\": \"International District/Chinatown Branch\", \"value\": 61124}, {\"year\": 2017, \"variable\": \"International District/Chinatown Branch\", \"value\": 64997}, {\"year\": 2018, \"variable\": \"International District/Chinatown Branch\", \"value\": 67416}, {\"year\": 2019, \"variable\": \"International District/Chinatown Branch\", \"value\": 60943}, {\"year\": 2010, \"variable\": \"Capitol Hill Branch\", \"value\": 306521}, {\"year\": 2011, \"variable\": \"Capitol Hill Branch\", \"value\": 292779}, {\"year\": 2012, \"variable\": \"Capitol Hill Branch\", \"value\": 267810}, {\"year\": 2013, \"variable\": \"Capitol Hill Branch\", \"value\": 271931}, {\"year\": 2014, \"variable\": \"Capitol Hill Branch\", \"value\": 276470}, {\"year\": 2015, \"variable\": \"Capitol Hill Branch\", \"value\": 246881}, {\"year\": 2016, \"variable\": \"Capitol Hill Branch\", \"value\": 289222}, {\"year\": 2017, \"variable\": \"Capitol Hill Branch\", \"value\": 278662}, {\"year\": 2018, \"variable\": \"Capitol Hill Branch\", \"value\": 274472}, {\"year\": 2019, \"variable\": \"Capitol Hill Branch\", \"value\": 260500}, {\"year\": 2010, \"variable\": \"Wallingford Branch\", \"value\": 130846}, {\"year\": 2011, \"variable\": \"Wallingford Branch\", \"value\": 125697}, {\"year\": 2012, \"variable\": \"Wallingford Branch\", \"value\": 119731}, {\"year\": 2013, \"variable\": \"Wallingford Branch\", \"value\": 137122}, {\"year\": 2014, \"variable\": \"Wallingford Branch\", \"value\": 136438}, {\"year\": 2015, \"variable\": \"Wallingford Branch\", \"value\": 113748}, {\"year\": 2016, \"variable\": \"Wallingford Branch\", \"value\": 114097}, {\"year\": 2017, \"variable\": \"Wallingford Branch\", \"value\": 100056}, {\"year\": 2018, \"variable\": \"Wallingford Branch\", \"value\": 103404}, {\"year\": 2019, \"variable\": \"Wallingford Branch\", \"value\": 103417}, {\"year\": 2010, \"variable\": \"Lake City Branch\", \"value\": 293029}, {\"year\": 2011, \"variable\": \"Lake City Branch\", \"value\": 286542}, {\"year\": 2012, \"variable\": \"Lake City Branch\", \"value\": 293974}, {\"year\": 2013, \"variable\": \"Lake City Branch\", \"value\": 277030}, {\"year\": 2014, \"variable\": \"Lake City Branch\", \"value\": 265926}, {\"year\": 2015, \"variable\": \"Lake City Branch\", \"value\": 268951}, {\"year\": 2016, \"variable\": \"Lake City Branch\", \"value\": 240921}, {\"year\": 2017, \"variable\": \"Lake City Branch\", \"value\": 221496}, {\"year\": 2018, \"variable\": \"Lake City Branch\", \"value\": 72657}, {\"year\": 2019, \"variable\": \"Lake City Branch\", \"value\": 194365}, {\"year\": 2010, \"variable\": \"Broadview Branch\", \"value\": 298902}, {\"year\": 2011, \"variable\": \"Broadview Branch\", \"value\": 303244}, {\"year\": 2012, \"variable\": \"Broadview Branch\", \"value\": 286152}, {\"year\": 2013, \"variable\": \"Broadview Branch\", \"value\": 286871}, {\"year\": 2014, \"variable\": \"Broadview Branch\", \"value\": 282801}, {\"year\": 2015, \"variable\": \"Broadview Branch\", \"value\": 280325}, {\"year\": 2016, \"variable\": \"Broadview Branch\", \"value\": 223107}, {\"year\": 2017, \"variable\": \"Broadview Branch\", \"value\": 225553}, {\"year\": 2018, \"variable\": \"Broadview Branch\", \"value\": 219709}, {\"year\": 2019, \"variable\": \"Broadview Branch\", \"value\": 203099}, {\"year\": 2010, \"variable\": \"Montlake Branch\", \"value\": 97846}, {\"year\": 2011, \"variable\": \"Montlake Branch\", \"value\": 88275}, {\"year\": 2012, \"variable\": \"Montlake Branch\", \"value\": 85149}, {\"year\": 2013, \"variable\": \"Montlake Branch\", \"value\": 95791}, {\"year\": 2014, \"variable\": \"Montlake Branch\", \"value\": 91446}, {\"year\": 2015, \"variable\": \"Montlake Branch\", \"value\": 87597}, {\"year\": 2016, \"variable\": \"Montlake Branch\", \"value\": 74101}, {\"year\": 2017, \"variable\": \"Montlake Branch\", \"value\": 66529}, {\"year\": 2018, \"variable\": \"Montlake Branch\", \"value\": 70265}, {\"year\": 2019, \"variable\": \"Montlake Branch\", \"value\": 59196}, {\"year\": 2010, \"variable\": \"South Park Branch\", \"value\": 71057}, {\"year\": 2011, \"variable\": \"South Park Branch\", \"value\": 65327}, {\"year\": 2012, \"variable\": \"South Park Branch\", \"value\": 63043}, {\"year\": 2013, \"variable\": \"South Park Branch\", \"value\": 67819}, {\"year\": 2014, \"variable\": \"South Park Branch\", \"value\": 60167}, {\"year\": 2015, \"variable\": \"South Park Branch\", \"value\": 57342}, {\"year\": 2016, \"variable\": \"South Park Branch\", \"value\": 55888}, {\"year\": 2017, \"variable\": \"South Park Branch\", \"value\": 59660}, {\"year\": 2018, \"variable\": \"South Park Branch\", \"value\": 60949}, {\"year\": 2019, \"variable\": \"South Park Branch\", \"value\": 48592}, {\"year\": 2010, \"variable\": \"Delridge Branch\", \"value\": 80169}, {\"year\": 2011, \"variable\": \"Delridge Branch\", \"value\": 65428}, {\"year\": 2012, \"variable\": \"Delridge Branch\", \"value\": 67277}, {\"year\": 2013, \"variable\": \"Delridge Branch\", \"value\": 75241}, {\"year\": 2014, \"variable\": \"Delridge Branch\", \"value\": 58780}, {\"year\": 2015, \"variable\": \"Delridge Branch\", \"value\": 47627}, {\"year\": 2016, \"variable\": \"Delridge Branch\", \"value\": 43798}, {\"year\": 2017, \"variable\": \"Delridge Branch\", \"value\": 38518}, {\"year\": 2018, \"variable\": \"Delridge Branch\", \"value\": 36855}, {\"year\": 2019, \"variable\": \"Delridge Branch\", \"value\": 34997}, {\"year\": 2010, \"variable\": \"Columbia Branch\", \"value\": 137265}, {\"year\": 2011, \"variable\": \"Columbia Branch\", \"value\": 128526}, {\"year\": 2012, \"variable\": \"Columbia Branch\", \"value\": 117374}, {\"year\": 2013, \"variable\": \"Columbia Branch\", \"value\": 185284}, {\"year\": 2014, \"variable\": \"Columbia Branch\", \"value\": 178737}, {\"year\": 2015, \"variable\": \"Columbia Branch\", \"value\": 195250}, {\"year\": 2016, \"variable\": \"Columbia Branch\", \"value\": 186052}, {\"year\": 2017, \"variable\": \"Columbia Branch\", \"value\": 176842}, {\"year\": 2018, \"variable\": \"Columbia Branch\", \"value\": 175301}, {\"year\": 2019, \"variable\": \"Columbia Branch\", \"value\": 161349}, {\"year\": 2010, \"variable\": \"University Branch\", \"value\": 182207}, {\"year\": 2011, \"variable\": \"University Branch\", \"value\": 167201}, {\"year\": 2012, \"variable\": \"University Branch\", \"value\": 163186}, {\"year\": 2013, \"variable\": \"University Branch\", \"value\": 189823}, {\"year\": 2014, \"variable\": \"University Branch\", \"value\": 186370}, {\"year\": 2015, \"variable\": \"University Branch\", \"value\": 167597}, {\"year\": 2016, \"variable\": \"University Branch\", \"value\": 115732}, {\"year\": 2017, \"variable\": \"University Branch\", \"value\": 119820}, {\"year\": 2018, \"variable\": \"University Branch\", \"value\": 135762}, {\"year\": 2019, \"variable\": \"University Branch\", \"value\": 127376}, {\"year\": 2010, \"variable\": \"Queen Anne Branch\", \"value\": 144095}, {\"year\": 2011, \"variable\": \"Queen Anne Branch\", \"value\": 136181}, {\"year\": 2012, \"variable\": \"Queen Anne Branch\", \"value\": 130775}, {\"year\": 2013, \"variable\": \"Queen Anne Branch\", \"value\": 146895}, {\"year\": 2014, \"variable\": \"Queen Anne Branch\", \"value\": 144448}, {\"year\": 2015, \"variable\": \"Queen Anne Branch\", \"value\": 137611}, {\"year\": 2016, \"variable\": \"Queen Anne Branch\", \"value\": 142148}, {\"year\": 2017, \"variable\": \"Queen Anne Branch\", \"value\": 135602}, {\"year\": 2018, \"variable\": \"Queen Anne Branch\", \"value\": 137621}, {\"year\": 2019, \"variable\": \"Queen Anne Branch\", \"value\": 128886}, {\"year\": 2010, \"variable\": \"West Seattle Branch\", \"value\": 178327}, {\"year\": 2011, \"variable\": \"West Seattle Branch\", \"value\": 192291}, {\"year\": 2012, \"variable\": \"West Seattle Branch\", \"value\": 194836}, {\"year\": 2013, \"variable\": \"West Seattle Branch\", \"value\": 196806}, {\"year\": 2014, \"variable\": \"West Seattle Branch\", \"value\": 185427}, {\"year\": 2015, \"variable\": \"West Seattle Branch\", \"value\": 179839}, {\"year\": 2016, \"variable\": \"West Seattle Branch\", \"value\": 170350}, {\"year\": 2017, \"variable\": \"West Seattle Branch\", \"value\": 166504}, {\"year\": 2018, \"variable\": \"West Seattle Branch\", \"value\": 167019}, {\"year\": 2019, \"variable\": \"West Seattle Branch\", \"value\": 167397}, {\"year\": 2010, \"variable\": \"Madrona-Sally Goldmark Branch\", \"value\": 71187}, {\"year\": 2011, \"variable\": \"Madrona-Sally Goldmark Branch\", \"value\": 61881}, {\"year\": 2012, \"variable\": \"Madrona-Sally Goldmark Branch\", \"value\": 60821}, {\"year\": 2013, \"variable\": \"Madrona-Sally Goldmark Branch\", \"value\": 70279}, {\"year\": 2014, \"variable\": \"Madrona-Sally Goldmark Branch\", \"value\": 65966}, {\"year\": 2015, \"variable\": \"Madrona-Sally Goldmark Branch\", \"value\": 69573}, {\"year\": 2016, \"variable\": \"Madrona-Sally Goldmark Branch\", \"value\": 65142}, {\"year\": 2017, \"variable\": \"Madrona-Sally Goldmark Branch\", \"value\": 60240}, {\"year\": 2018, \"variable\": \"Madrona-Sally Goldmark Branch\", \"value\": 56110}, {\"year\": 2019, \"variable\": \"Madrona-Sally Goldmark Branch\", \"value\": 58110}, {\"year\": 2010, \"variable\": \"Green Lake Branch\", \"value\": 208355}, {\"year\": 2011, \"variable\": \"Green Lake Branch\", \"value\": 201630}, {\"year\": 2012, \"variable\": \"Green Lake Branch\", \"value\": 185062}, {\"year\": 2013, \"variable\": \"Green Lake Branch\", \"value\": 203291}, {\"year\": 2014, \"variable\": \"Green Lake Branch\", \"value\": 200932}, {\"year\": 2015, \"variable\": \"Green Lake Branch\", \"value\": 123816}, {\"year\": 2016, \"variable\": \"Green Lake Branch\", \"value\": 123251}, {\"year\": 2017, \"variable\": \"Green Lake Branch\", \"value\": 76522}, {\"year\": 2018, \"variable\": \"Green Lake Branch\", \"value\": 118741}, {\"year\": 2019, \"variable\": \"Green Lake Branch\", \"value\": 89041}, {\"year\": 2010, \"variable\": \"Beacon Hill Branch\", \"value\": 289636}, {\"year\": 2011, \"variable\": \"Beacon Hill Branch\", \"value\": 286050}, {\"year\": 2012, \"variable\": \"Beacon Hill Branch\", \"value\": 250736}, {\"year\": 2013, \"variable\": \"Beacon Hill Branch\", \"value\": 252872}, {\"year\": 2014, \"variable\": \"Beacon Hill Branch\", \"value\": 248777}, {\"year\": 2015, \"variable\": \"Beacon Hill Branch\", \"value\": 245745}, {\"year\": 2016, \"variable\": \"Beacon Hill Branch\", \"value\": 235848}, {\"year\": 2017, \"variable\": \"Beacon Hill Branch\", \"value\": 192620}, {\"year\": 2018, \"variable\": \"Beacon Hill Branch\", \"value\": 221965}, {\"year\": 2019, \"variable\": \"Beacon Hill Branch\", \"value\": 210121}, {\"year\": 2010, \"variable\": \"Central Library\", \"value\": 1974333}, {\"year\": 2011, \"variable\": \"Central Library\", \"value\": 1903953}, {\"year\": 2012, \"variable\": \"Central Library\", \"value\": 1814183}, {\"year\": 2013, \"variable\": \"Central Library\", \"value\": 1838018}, {\"year\": 2014, \"variable\": \"Central Library\", \"value\": 1801861}, {\"year\": 2015, \"variable\": \"Central Library\", \"value\": 1549259}, {\"year\": 2016, \"variable\": \"Central Library\", \"value\": 1479764}, {\"year\": 2017, \"variable\": \"Central Library\", \"value\": 1405607}, {\"year\": 2018, \"variable\": \"Central Library\", \"value\": 1421395}, {\"year\": 2019, \"variable\": \"Central Library\", \"value\": 1320463}, {\"year\": 2010, \"variable\": \"Fremont Branch\", \"value\": 85480}, {\"year\": 2011, \"variable\": \"Fremont Branch\", \"value\": 78856}, {\"year\": 2012, \"variable\": \"Fremont Branch\", \"value\": 74063}, {\"year\": 2013, \"variable\": \"Fremont Branch\", \"value\": 84345}, {\"year\": 2014, \"variable\": \"Fremont Branch\", \"value\": 80977}, {\"year\": 2015, \"variable\": \"Fremont Branch\", \"value\": 80243}, {\"year\": 2016, \"variable\": \"Fremont Branch\", \"value\": 93602}, {\"year\": 2017, \"variable\": \"Fremont Branch\", \"value\": 119350}, {\"year\": 2018, \"variable\": \"Fremont Branch\", \"value\": 77263}, {\"year\": 2019, \"variable\": \"Fremont Branch\", \"value\": 75503}, {\"year\": 2010, \"variable\": \"Southwest Branch\", \"value\": 211819}, {\"year\": 2011, \"variable\": \"Southwest Branch\", \"value\": 209572}, {\"year\": 2012, \"variable\": \"Southwest Branch\", \"value\": 210959}, {\"year\": 2013, \"variable\": \"Southwest Branch\", \"value\": 191699}, {\"year\": 2014, \"variable\": \"Southwest Branch\", \"value\": 188682}, {\"year\": 2015, \"variable\": \"Southwest Branch\", \"value\": 195335}, {\"year\": 2016, \"variable\": \"Southwest Branch\", \"value\": 187134}, {\"year\": 2017, \"variable\": \"Southwest Branch\", \"value\": 174980}, {\"year\": 2018, \"variable\": \"Southwest Branch\", \"value\": 169651}, {\"year\": 2019, \"variable\": \"Southwest Branch\", \"value\": 166923}]}}, {\"mode\": \"vega-lite\"});\n",
       "</script>"
      ],
      "text/plain": [
       "alt.Chart(...)"
      ]
     },
     "execution_count": 49,
     "metadata": {},
     "output_type": "execute_result"
    }
   ],
   "source": [
    "branch_traffic"
   ]
  },
  {
   "cell_type": "code",
   "execution_count": 50,
   "metadata": {},
   "outputs": [],
   "source": [
    "branch_traffic.save('branch_traffic.html')"
   ]
  },
  {
   "cell_type": "code",
   "execution_count": 51,
   "metadata": {},
   "outputs": [],
   "source": [
    "df_plot2 = df_plot[df_plot['variable'] != 'Central Library']"
   ]
  },
  {
   "cell_type": "code",
   "execution_count": 52,
   "metadata": {},
   "outputs": [],
   "source": [
    "branch_traffic2 = alt.Chart(df_plot2).mark_line().encode(\n",
    "    x = alt.X('year:N'),\n",
    "    y = alt.Y('value:Q'),\n",
    "    color = alt.Color('variable:N'),\n",
    "    tooltip = [alt.Tooltip('variable:N', title='Branch: ')]\n",
    ").properties(\n",
    "    title = 'Branch Door counts by year',\n",
    "    width = 650,\n",
    "    height = 700\n",
    ")"
   ]
  },
  {
   "cell_type": "code",
   "execution_count": 53,
   "metadata": {},
   "outputs": [
    {
     "data": {
      "text/html": [
       "\n",
       "<div id=\"altair-viz-7542769665e34d719751eeb35d0f1bda\"></div>\n",
       "<script type=\"text/javascript\">\n",
       "  (function(spec, embedOpt){\n",
       "    let outputDiv = document.currentScript.previousElementSibling;\n",
       "    if (outputDiv.id !== \"altair-viz-7542769665e34d719751eeb35d0f1bda\") {\n",
       "      outputDiv = document.getElementById(\"altair-viz-7542769665e34d719751eeb35d0f1bda\");\n",
       "    }\n",
       "    const paths = {\n",
       "      \"vega\": \"https://cdn.jsdelivr.net/npm//vega@5?noext\",\n",
       "      \"vega-lib\": \"https://cdn.jsdelivr.net/npm//vega-lib?noext\",\n",
       "      \"vega-lite\": \"https://cdn.jsdelivr.net/npm//vega-lite@4.8.1?noext\",\n",
       "      \"vega-embed\": \"https://cdn.jsdelivr.net/npm//vega-embed@6?noext\",\n",
       "    };\n",
       "\n",
       "    function loadScript(lib) {\n",
       "      return new Promise(function(resolve, reject) {\n",
       "        var s = document.createElement('script');\n",
       "        s.src = paths[lib];\n",
       "        s.async = true;\n",
       "        s.onload = () => resolve(paths[lib]);\n",
       "        s.onerror = () => reject(`Error loading script: ${paths[lib]}`);\n",
       "        document.getElementsByTagName(\"head\")[0].appendChild(s);\n",
       "      });\n",
       "    }\n",
       "\n",
       "    function showError(err) {\n",
       "      outputDiv.innerHTML = `<div class=\"error\" style=\"color:red;\">${err}</div>`;\n",
       "      throw err;\n",
       "    }\n",
       "\n",
       "    function displayChart(vegaEmbed) {\n",
       "      vegaEmbed(outputDiv, spec, embedOpt)\n",
       "        .catch(err => showError(`Javascript Error: ${err.message}<br>This usually means there's a typo in your chart specification. See the javascript console for the full traceback.`));\n",
       "    }\n",
       "\n",
       "    if(typeof define === \"function\" && define.amd) {\n",
       "      requirejs.config({paths});\n",
       "      require([\"vega-embed\"], displayChart, err => showError(`Error loading script: ${err.message}`));\n",
       "    } else if (typeof vegaEmbed === \"function\") {\n",
       "      displayChart(vegaEmbed);\n",
       "    } else {\n",
       "      loadScript(\"vega\")\n",
       "        .then(() => loadScript(\"vega-lite\"))\n",
       "        .then(() => loadScript(\"vega-embed\"))\n",
       "        .catch(showError)\n",
       "        .then(() => displayChart(vegaEmbed));\n",
       "    }\n",
       "  })({\"config\": {\"view\": {\"continuousWidth\": 400, \"continuousHeight\": 300}}, \"data\": {\"name\": \"data-ae63e2c5feeb37f957b24d8e21013b2a\"}, \"mark\": \"line\", \"encoding\": {\"color\": {\"type\": \"nominal\", \"field\": \"variable\"}, \"tooltip\": [{\"type\": \"nominal\", \"field\": \"variable\", \"title\": \"Branch: \"}], \"x\": {\"type\": \"nominal\", \"field\": \"year\"}, \"y\": {\"type\": \"quantitative\", \"field\": \"value\"}}, \"height\": 700, \"title\": \"Branch Door counts by year\", \"width\": 650, \"$schema\": \"https://vega.github.io/schema/vega-lite/v4.8.1.json\", \"datasets\": {\"data-ae63e2c5feeb37f957b24d8e21013b2a\": [{\"year\": 2010, \"variable\": \"Northgate Branch\", \"value\": 232039}, {\"year\": 2011, \"variable\": \"Northgate Branch\", \"value\": 212547}, {\"year\": 2012, \"variable\": \"Northgate Branch\", \"value\": 184225}, {\"year\": 2013, \"variable\": \"Northgate Branch\", \"value\": 253925}, {\"year\": 2014, \"variable\": \"Northgate Branch\", \"value\": 255163}, {\"year\": 2015, \"variable\": \"Northgate Branch\", \"value\": 258321}, {\"year\": 2016, \"variable\": \"Northgate Branch\", \"value\": 234778}, {\"year\": 2017, \"variable\": \"Northgate Branch\", \"value\": 222216}, {\"year\": 2018, \"variable\": \"Northgate Branch\", \"value\": 263792}, {\"year\": 2019, \"variable\": \"Northgate Branch\", \"value\": 206546}, {\"year\": 2010, \"variable\": \"High Point Branch\", \"value\": 102077}, {\"year\": 2011, \"variable\": \"High Point Branch\", \"value\": 103419}, {\"year\": 2012, \"variable\": \"High Point Branch\", \"value\": 103451}, {\"year\": 2013, \"variable\": \"High Point Branch\", \"value\": 101992}, {\"year\": 2014, \"variable\": \"High Point Branch\", \"value\": 92887}, {\"year\": 2015, \"variable\": \"High Point Branch\", \"value\": 96046}, {\"year\": 2016, \"variable\": \"High Point Branch\", \"value\": 85721}, {\"year\": 2017, \"variable\": \"High Point Branch\", \"value\": 90696}, {\"year\": 2018, \"variable\": \"High Point Branch\", \"value\": 96763}, {\"year\": 2019, \"variable\": \"High Point Branch\", \"value\": 93959}, {\"year\": 2010, \"variable\": \"Rainier Beach Branch\", \"value\": 218208}, {\"year\": 2011, \"variable\": \"Rainier Beach Branch\", \"value\": 218062}, {\"year\": 2012, \"variable\": \"Rainier Beach Branch\", \"value\": 211623}, {\"year\": 2013, \"variable\": \"Rainier Beach Branch\", \"value\": 204404}, {\"year\": 2014, \"variable\": \"Rainier Beach Branch\", \"value\": 206950}, {\"year\": 2015, \"variable\": \"Rainier Beach Branch\", \"value\": 127855}, {\"year\": 2016, \"variable\": \"Rainier Beach Branch\", \"value\": 145970}, {\"year\": 2017, \"variable\": \"Rainier Beach Branch\", \"value\": 160787}, {\"year\": 2018, \"variable\": \"Rainier Beach Branch\", \"value\": 156052}, {\"year\": 2019, \"variable\": \"Rainier Beach Branch\", \"value\": 140926}, {\"year\": 2010, \"variable\": \"Douglass-Truth Branch\", \"value\": 221588}, {\"year\": 2011, \"variable\": \"Douglass-Truth Branch\", \"value\": 250964}, {\"year\": 2012, \"variable\": \"Douglass-Truth Branch\", \"value\": 260450}, {\"year\": 2013, \"variable\": \"Douglass-Truth Branch\", \"value\": 253750}, {\"year\": 2014, \"variable\": \"Douglass-Truth Branch\", \"value\": 240790}, {\"year\": 2015, \"variable\": \"Douglass-Truth Branch\", \"value\": 206517}, {\"year\": 2016, \"variable\": \"Douglass-Truth Branch\", \"value\": 176829}, {\"year\": 2017, \"variable\": \"Douglass-Truth Branch\", \"value\": 179005}, {\"year\": 2018, \"variable\": \"Douglass-Truth Branch\", \"value\": 168450}, {\"year\": 2019, \"variable\": \"Douglass-Truth Branch\", \"value\": 151417}, {\"year\": 2010, \"variable\": \"Magnolia Branch\", \"value\": 112262}, {\"year\": 2011, \"variable\": \"Magnolia Branch\", \"value\": 108179}, {\"year\": 2012, \"variable\": \"Magnolia Branch\", \"value\": 102521}, {\"year\": 2013, \"variable\": \"Magnolia Branch\", \"value\": 114014}, {\"year\": 2014, \"variable\": \"Magnolia Branch\", \"value\": 113728}, {\"year\": 2015, \"variable\": \"Magnolia Branch\", \"value\": 156733}, {\"year\": 2016, \"variable\": \"Magnolia Branch\", \"value\": 113586}, {\"year\": 2017, \"variable\": \"Magnolia Branch\", \"value\": 111875}, {\"year\": 2018, \"variable\": \"Magnolia Branch\", \"value\": 110079}, {\"year\": 2019, \"variable\": \"Magnolia Branch\", \"value\": 107203}, {\"year\": 2010, \"variable\": \"NewHolly Branch\", \"value\": 92535}, {\"year\": 2011, \"variable\": \"NewHolly Branch\", \"value\": 96914}, {\"year\": 2012, \"variable\": \"NewHolly Branch\", \"value\": 80128}, {\"year\": 2013, \"variable\": \"NewHolly Branch\", \"value\": 71290}, {\"year\": 2014, \"variable\": \"NewHolly Branch\", \"value\": 67479}, {\"year\": 2015, \"variable\": \"NewHolly Branch\", \"value\": 69048}, {\"year\": 2016, \"variable\": \"NewHolly Branch\", \"value\": 61094}, {\"year\": 2017, \"variable\": \"NewHolly Branch\", \"value\": 58321}, {\"year\": 2018, \"variable\": \"NewHolly Branch\", \"value\": 58924}, {\"year\": 2019, \"variable\": \"NewHolly Branch\", \"value\": 53429}, {\"year\": 2010, \"variable\": \"Ballard Branch\", \"value\": 462421}, {\"year\": 2011, \"variable\": \"Ballard Branch\", \"value\": 436589}, {\"year\": 2012, \"variable\": \"Ballard Branch\", \"value\": 420828}, {\"year\": 2013, \"variable\": \"Ballard Branch\", \"value\": 424617}, {\"year\": 2014, \"variable\": \"Ballard Branch\", \"value\": 413503}, {\"year\": 2015, \"variable\": \"Ballard Branch\", \"value\": 404936}, {\"year\": 2016, \"variable\": \"Ballard Branch\", \"value\": 338095}, {\"year\": 2017, \"variable\": \"Ballard Branch\", \"value\": 384171}, {\"year\": 2018, \"variable\": \"Ballard Branch\", \"value\": 363410}, {\"year\": 2019, \"variable\": \"Ballard Branch\", \"value\": 346726}, {\"year\": 2010, \"variable\": \"Greenwood Branch\", \"value\": 299670}, {\"year\": 2011, \"variable\": \"Greenwood Branch\", \"value\": 300708}, {\"year\": 2012, \"variable\": \"Greenwood Branch\", \"value\": 296987}, {\"year\": 2013, \"variable\": \"Greenwood Branch\", \"value\": 315275}, {\"year\": 2014, \"variable\": \"Greenwood Branch\", \"value\": 303407}, {\"year\": 2015, \"variable\": \"Greenwood Branch\", \"value\": 305882}, {\"year\": 2016, \"variable\": \"Greenwood Branch\", \"value\": 301125}, {\"year\": 2017, \"variable\": \"Greenwood Branch\", \"value\": 198873}, {\"year\": 2018, \"variable\": \"Greenwood Branch\", \"value\": 295700}, {\"year\": 2019, \"variable\": \"Greenwood Branch\", \"value\": 275649}, {\"year\": 2010, \"variable\": \"Northeast Branch\", \"value\": 345352}, {\"year\": 2011, \"variable\": \"Northeast Branch\", \"value\": 353288}, {\"year\": 2012, \"variable\": \"Northeast Branch\", \"value\": 355319}, {\"year\": 2013, \"variable\": \"Northeast Branch\", \"value\": 362367}, {\"year\": 2014, \"variable\": \"Northeast Branch\", \"value\": 346812}, {\"year\": 2015, \"variable\": \"Northeast Branch\", \"value\": 345190}, {\"year\": 2016, \"variable\": \"Northeast Branch\", \"value\": 324149}, {\"year\": 2017, \"variable\": \"Northeast Branch\", \"value\": 300124}, {\"year\": 2018, \"variable\": \"Northeast Branch\", \"value\": 313561}, {\"year\": 2019, \"variable\": \"Northeast Branch\", \"value\": 293009}, {\"year\": 2010, \"variable\": \"International District/Chinatown Branch\", \"value\": 85527}, {\"year\": 2011, \"variable\": \"International District/Chinatown Branch\", \"value\": 74127}, {\"year\": 2012, \"variable\": \"International District/Chinatown Branch\", \"value\": 65410}, {\"year\": 2013, \"variable\": \"International District/Chinatown Branch\", \"value\": 69524}, {\"year\": 2014, \"variable\": \"International District/Chinatown Branch\", \"value\": 62824}, {\"year\": 2015, \"variable\": \"International District/Chinatown Branch\", \"value\": 64779}, {\"year\": 2016, \"variable\": \"International District/Chinatown Branch\", \"value\": 61124}, {\"year\": 2017, \"variable\": \"International District/Chinatown Branch\", \"value\": 64997}, {\"year\": 2018, \"variable\": \"International District/Chinatown Branch\", \"value\": 67416}, {\"year\": 2019, \"variable\": \"International District/Chinatown Branch\", \"value\": 60943}, {\"year\": 2010, \"variable\": \"Capitol Hill Branch\", \"value\": 306521}, {\"year\": 2011, \"variable\": \"Capitol Hill Branch\", \"value\": 292779}, {\"year\": 2012, \"variable\": \"Capitol Hill Branch\", \"value\": 267810}, {\"year\": 2013, \"variable\": \"Capitol Hill Branch\", \"value\": 271931}, {\"year\": 2014, \"variable\": \"Capitol Hill Branch\", \"value\": 276470}, {\"year\": 2015, \"variable\": \"Capitol Hill Branch\", \"value\": 246881}, {\"year\": 2016, \"variable\": \"Capitol Hill Branch\", \"value\": 289222}, {\"year\": 2017, \"variable\": \"Capitol Hill Branch\", \"value\": 278662}, {\"year\": 2018, \"variable\": \"Capitol Hill Branch\", \"value\": 274472}, {\"year\": 2019, \"variable\": \"Capitol Hill Branch\", \"value\": 260500}, {\"year\": 2010, \"variable\": \"Wallingford Branch\", \"value\": 130846}, {\"year\": 2011, \"variable\": \"Wallingford Branch\", \"value\": 125697}, {\"year\": 2012, \"variable\": \"Wallingford Branch\", \"value\": 119731}, {\"year\": 2013, \"variable\": \"Wallingford Branch\", \"value\": 137122}, {\"year\": 2014, \"variable\": \"Wallingford Branch\", \"value\": 136438}, {\"year\": 2015, \"variable\": \"Wallingford Branch\", \"value\": 113748}, {\"year\": 2016, \"variable\": \"Wallingford Branch\", \"value\": 114097}, {\"year\": 2017, \"variable\": \"Wallingford Branch\", \"value\": 100056}, {\"year\": 2018, \"variable\": \"Wallingford Branch\", \"value\": 103404}, {\"year\": 2019, \"variable\": \"Wallingford Branch\", \"value\": 103417}, {\"year\": 2010, \"variable\": \"Lake City Branch\", \"value\": 293029}, {\"year\": 2011, \"variable\": \"Lake City Branch\", \"value\": 286542}, {\"year\": 2012, \"variable\": \"Lake City Branch\", \"value\": 293974}, {\"year\": 2013, \"variable\": \"Lake City Branch\", \"value\": 277030}, {\"year\": 2014, \"variable\": \"Lake City Branch\", \"value\": 265926}, {\"year\": 2015, \"variable\": \"Lake City Branch\", \"value\": 268951}, {\"year\": 2016, \"variable\": \"Lake City Branch\", \"value\": 240921}, {\"year\": 2017, \"variable\": \"Lake City Branch\", \"value\": 221496}, {\"year\": 2018, \"variable\": \"Lake City Branch\", \"value\": 72657}, {\"year\": 2019, \"variable\": \"Lake City Branch\", \"value\": 194365}, {\"year\": 2010, \"variable\": \"Broadview Branch\", \"value\": 298902}, {\"year\": 2011, \"variable\": \"Broadview Branch\", \"value\": 303244}, {\"year\": 2012, \"variable\": \"Broadview Branch\", \"value\": 286152}, {\"year\": 2013, \"variable\": \"Broadview Branch\", \"value\": 286871}, {\"year\": 2014, \"variable\": \"Broadview Branch\", \"value\": 282801}, {\"year\": 2015, \"variable\": \"Broadview Branch\", \"value\": 280325}, {\"year\": 2016, \"variable\": \"Broadview Branch\", \"value\": 223107}, {\"year\": 2017, \"variable\": \"Broadview Branch\", \"value\": 225553}, {\"year\": 2018, \"variable\": \"Broadview Branch\", \"value\": 219709}, {\"year\": 2019, \"variable\": \"Broadview Branch\", \"value\": 203099}, {\"year\": 2010, \"variable\": \"Montlake Branch\", \"value\": 97846}, {\"year\": 2011, \"variable\": \"Montlake Branch\", \"value\": 88275}, {\"year\": 2012, \"variable\": \"Montlake Branch\", \"value\": 85149}, {\"year\": 2013, \"variable\": \"Montlake Branch\", \"value\": 95791}, {\"year\": 2014, \"variable\": \"Montlake Branch\", \"value\": 91446}, {\"year\": 2015, \"variable\": \"Montlake Branch\", \"value\": 87597}, {\"year\": 2016, \"variable\": \"Montlake Branch\", \"value\": 74101}, {\"year\": 2017, \"variable\": \"Montlake Branch\", \"value\": 66529}, {\"year\": 2018, \"variable\": \"Montlake Branch\", \"value\": 70265}, {\"year\": 2019, \"variable\": \"Montlake Branch\", \"value\": 59196}, {\"year\": 2010, \"variable\": \"South Park Branch\", \"value\": 71057}, {\"year\": 2011, \"variable\": \"South Park Branch\", \"value\": 65327}, {\"year\": 2012, \"variable\": \"South Park Branch\", \"value\": 63043}, {\"year\": 2013, \"variable\": \"South Park Branch\", \"value\": 67819}, {\"year\": 2014, \"variable\": \"South Park Branch\", \"value\": 60167}, {\"year\": 2015, \"variable\": \"South Park Branch\", \"value\": 57342}, {\"year\": 2016, \"variable\": \"South Park Branch\", \"value\": 55888}, {\"year\": 2017, \"variable\": \"South Park Branch\", \"value\": 59660}, {\"year\": 2018, \"variable\": \"South Park Branch\", \"value\": 60949}, {\"year\": 2019, \"variable\": \"South Park Branch\", \"value\": 48592}, {\"year\": 2010, \"variable\": \"Delridge Branch\", \"value\": 80169}, {\"year\": 2011, \"variable\": \"Delridge Branch\", \"value\": 65428}, {\"year\": 2012, \"variable\": \"Delridge Branch\", \"value\": 67277}, {\"year\": 2013, \"variable\": \"Delridge Branch\", \"value\": 75241}, {\"year\": 2014, \"variable\": \"Delridge Branch\", \"value\": 58780}, {\"year\": 2015, \"variable\": \"Delridge Branch\", \"value\": 47627}, {\"year\": 2016, \"variable\": \"Delridge Branch\", \"value\": 43798}, {\"year\": 2017, \"variable\": \"Delridge Branch\", \"value\": 38518}, {\"year\": 2018, \"variable\": \"Delridge Branch\", \"value\": 36855}, {\"year\": 2019, \"variable\": \"Delridge Branch\", \"value\": 34997}, {\"year\": 2010, \"variable\": \"Columbia Branch\", \"value\": 137265}, {\"year\": 2011, \"variable\": \"Columbia Branch\", \"value\": 128526}, {\"year\": 2012, \"variable\": \"Columbia Branch\", \"value\": 117374}, {\"year\": 2013, \"variable\": \"Columbia Branch\", \"value\": 185284}, {\"year\": 2014, \"variable\": \"Columbia Branch\", \"value\": 178737}, {\"year\": 2015, \"variable\": \"Columbia Branch\", \"value\": 195250}, {\"year\": 2016, \"variable\": \"Columbia Branch\", \"value\": 186052}, {\"year\": 2017, \"variable\": \"Columbia Branch\", \"value\": 176842}, {\"year\": 2018, \"variable\": \"Columbia Branch\", \"value\": 175301}, {\"year\": 2019, \"variable\": \"Columbia Branch\", \"value\": 161349}, {\"year\": 2010, \"variable\": \"University Branch\", \"value\": 182207}, {\"year\": 2011, \"variable\": \"University Branch\", \"value\": 167201}, {\"year\": 2012, \"variable\": \"University Branch\", \"value\": 163186}, {\"year\": 2013, \"variable\": \"University Branch\", \"value\": 189823}, {\"year\": 2014, \"variable\": \"University Branch\", \"value\": 186370}, {\"year\": 2015, \"variable\": \"University Branch\", \"value\": 167597}, {\"year\": 2016, \"variable\": \"University Branch\", \"value\": 115732}, {\"year\": 2017, \"variable\": \"University Branch\", \"value\": 119820}, {\"year\": 2018, \"variable\": \"University Branch\", \"value\": 135762}, {\"year\": 2019, \"variable\": \"University Branch\", \"value\": 127376}, {\"year\": 2010, \"variable\": \"Queen Anne Branch\", \"value\": 144095}, {\"year\": 2011, \"variable\": \"Queen Anne Branch\", \"value\": 136181}, {\"year\": 2012, \"variable\": \"Queen Anne Branch\", \"value\": 130775}, {\"year\": 2013, \"variable\": \"Queen Anne Branch\", \"value\": 146895}, {\"year\": 2014, \"variable\": \"Queen Anne Branch\", \"value\": 144448}, {\"year\": 2015, \"variable\": \"Queen Anne Branch\", \"value\": 137611}, {\"year\": 2016, \"variable\": \"Queen Anne Branch\", \"value\": 142148}, {\"year\": 2017, \"variable\": \"Queen Anne Branch\", \"value\": 135602}, {\"year\": 2018, \"variable\": \"Queen Anne Branch\", \"value\": 137621}, {\"year\": 2019, \"variable\": \"Queen Anne Branch\", \"value\": 128886}, {\"year\": 2010, \"variable\": \"West Seattle Branch\", \"value\": 178327}, {\"year\": 2011, \"variable\": \"West Seattle Branch\", \"value\": 192291}, {\"year\": 2012, \"variable\": \"West Seattle Branch\", \"value\": 194836}, {\"year\": 2013, \"variable\": \"West Seattle Branch\", \"value\": 196806}, {\"year\": 2014, \"variable\": \"West Seattle Branch\", \"value\": 185427}, {\"year\": 2015, \"variable\": \"West Seattle Branch\", \"value\": 179839}, {\"year\": 2016, \"variable\": \"West Seattle Branch\", \"value\": 170350}, {\"year\": 2017, \"variable\": \"West Seattle Branch\", \"value\": 166504}, {\"year\": 2018, \"variable\": \"West Seattle Branch\", \"value\": 167019}, {\"year\": 2019, \"variable\": \"West Seattle Branch\", \"value\": 167397}, {\"year\": 2010, \"variable\": \"Madrona-Sally Goldmark Branch\", \"value\": 71187}, {\"year\": 2011, \"variable\": \"Madrona-Sally Goldmark Branch\", \"value\": 61881}, {\"year\": 2012, \"variable\": \"Madrona-Sally Goldmark Branch\", \"value\": 60821}, {\"year\": 2013, \"variable\": \"Madrona-Sally Goldmark Branch\", \"value\": 70279}, {\"year\": 2014, \"variable\": \"Madrona-Sally Goldmark Branch\", \"value\": 65966}, {\"year\": 2015, \"variable\": \"Madrona-Sally Goldmark Branch\", \"value\": 69573}, {\"year\": 2016, \"variable\": \"Madrona-Sally Goldmark Branch\", \"value\": 65142}, {\"year\": 2017, \"variable\": \"Madrona-Sally Goldmark Branch\", \"value\": 60240}, {\"year\": 2018, \"variable\": \"Madrona-Sally Goldmark Branch\", \"value\": 56110}, {\"year\": 2019, \"variable\": \"Madrona-Sally Goldmark Branch\", \"value\": 58110}, {\"year\": 2010, \"variable\": \"Green Lake Branch\", \"value\": 208355}, {\"year\": 2011, \"variable\": \"Green Lake Branch\", \"value\": 201630}, {\"year\": 2012, \"variable\": \"Green Lake Branch\", \"value\": 185062}, {\"year\": 2013, \"variable\": \"Green Lake Branch\", \"value\": 203291}, {\"year\": 2014, \"variable\": \"Green Lake Branch\", \"value\": 200932}, {\"year\": 2015, \"variable\": \"Green Lake Branch\", \"value\": 123816}, {\"year\": 2016, \"variable\": \"Green Lake Branch\", \"value\": 123251}, {\"year\": 2017, \"variable\": \"Green Lake Branch\", \"value\": 76522}, {\"year\": 2018, \"variable\": \"Green Lake Branch\", \"value\": 118741}, {\"year\": 2019, \"variable\": \"Green Lake Branch\", \"value\": 89041}, {\"year\": 2010, \"variable\": \"Beacon Hill Branch\", \"value\": 289636}, {\"year\": 2011, \"variable\": \"Beacon Hill Branch\", \"value\": 286050}, {\"year\": 2012, \"variable\": \"Beacon Hill Branch\", \"value\": 250736}, {\"year\": 2013, \"variable\": \"Beacon Hill Branch\", \"value\": 252872}, {\"year\": 2014, \"variable\": \"Beacon Hill Branch\", \"value\": 248777}, {\"year\": 2015, \"variable\": \"Beacon Hill Branch\", \"value\": 245745}, {\"year\": 2016, \"variable\": \"Beacon Hill Branch\", \"value\": 235848}, {\"year\": 2017, \"variable\": \"Beacon Hill Branch\", \"value\": 192620}, {\"year\": 2018, \"variable\": \"Beacon Hill Branch\", \"value\": 221965}, {\"year\": 2019, \"variable\": \"Beacon Hill Branch\", \"value\": 210121}, {\"year\": 2010, \"variable\": \"Fremont Branch\", \"value\": 85480}, {\"year\": 2011, \"variable\": \"Fremont Branch\", \"value\": 78856}, {\"year\": 2012, \"variable\": \"Fremont Branch\", \"value\": 74063}, {\"year\": 2013, \"variable\": \"Fremont Branch\", \"value\": 84345}, {\"year\": 2014, \"variable\": \"Fremont Branch\", \"value\": 80977}, {\"year\": 2015, \"variable\": \"Fremont Branch\", \"value\": 80243}, {\"year\": 2016, \"variable\": \"Fremont Branch\", \"value\": 93602}, {\"year\": 2017, \"variable\": \"Fremont Branch\", \"value\": 119350}, {\"year\": 2018, \"variable\": \"Fremont Branch\", \"value\": 77263}, {\"year\": 2019, \"variable\": \"Fremont Branch\", \"value\": 75503}, {\"year\": 2010, \"variable\": \"Southwest Branch\", \"value\": 211819}, {\"year\": 2011, \"variable\": \"Southwest Branch\", \"value\": 209572}, {\"year\": 2012, \"variable\": \"Southwest Branch\", \"value\": 210959}, {\"year\": 2013, \"variable\": \"Southwest Branch\", \"value\": 191699}, {\"year\": 2014, \"variable\": \"Southwest Branch\", \"value\": 188682}, {\"year\": 2015, \"variable\": \"Southwest Branch\", \"value\": 195335}, {\"year\": 2016, \"variable\": \"Southwest Branch\", \"value\": 187134}, {\"year\": 2017, \"variable\": \"Southwest Branch\", \"value\": 174980}, {\"year\": 2018, \"variable\": \"Southwest Branch\", \"value\": 169651}, {\"year\": 2019, \"variable\": \"Southwest Branch\", \"value\": 166923}]}}, {\"mode\": \"vega-lite\"});\n",
       "</script>"
      ],
      "text/plain": [
       "alt.Chart(...)"
      ]
     },
     "execution_count": 53,
     "metadata": {},
     "output_type": "execute_result"
    }
   ],
   "source": [
    "branch_traffic2"
   ]
  },
  {
   "cell_type": "code",
   "execution_count": 54,
   "metadata": {},
   "outputs": [],
   "source": [
    "branch_traffic2.save('branch_traffice_wo_cental.html')"
   ]
  },
  {
   "cell_type": "code",
   "execution_count": null,
   "metadata": {},
   "outputs": [],
   "source": []
  }
 ],
 "metadata": {
  "kernelspec": {
   "display_name": "Python 3",
   "language": "python",
   "name": "python3"
  },
  "language_info": {
   "codemirror_mode": {
    "name": "ipython",
    "version": 3
   },
   "file_extension": ".py",
   "mimetype": "text/x-python",
   "name": "python",
   "nbconvert_exporter": "python",
   "pygments_lexer": "ipython3",
   "version": "3.8.8"
  }
 },
 "nbformat": 4,
 "nbformat_minor": 4
}
